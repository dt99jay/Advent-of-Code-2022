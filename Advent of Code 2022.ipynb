{
 "cells": [
  {
   "cell_type": "markdown",
   "metadata": {},
   "source": [
    "## Advent of Code 2022"
   ]
  },
  {
   "cell_type": "code",
   "execution_count": 1,
   "metadata": {},
   "outputs": [],
   "source": [
    "from aocd import get_data"
   ]
  },
  {
   "cell_type": "markdown",
   "metadata": {},
   "source": [
    "### Day One"
   ]
  },
  {
   "cell_type": "code",
   "execution_count": 2,
   "metadata": {},
   "outputs": [],
   "source": [
    "data = get_data(day=1, year=2022)"
   ]
  },
  {
   "cell_type": "code",
   "execution_count": 3,
   "metadata": {},
   "outputs": [
    {
     "data": {
      "text/plain": [
       "68787"
      ]
     },
     "execution_count": 3,
     "metadata": {},
     "output_type": "execute_result"
    }
   ],
   "source": [
    "# Part One\n",
    "\n",
    "elves = [elf.split(\"\\n\") for elf in data.split(\"\\n\\n\")]\n",
    "calories = [sum([int(calories) for calories in elf]) for elf in elves]\n",
    "max(calories)"
   ]
  },
  {
   "cell_type": "code",
   "execution_count": 4,
   "metadata": {},
   "outputs": [
    {
     "data": {
      "text/plain": [
       "198041"
      ]
     },
     "execution_count": 4,
     "metadata": {},
     "output_type": "execute_result"
    }
   ],
   "source": [
    "# Part Two\n",
    "\n",
    "sum(sorted(calories, reverse=True)[:3])"
   ]
  },
  {
   "cell_type": "markdown",
   "metadata": {},
   "source": [
    "### Day Two"
   ]
  },
  {
   "cell_type": "code",
   "execution_count": 5,
   "metadata": {},
   "outputs": [],
   "source": [
    "data = get_data(day=2, year=2022)"
   ]
  },
  {
   "cell_type": "code",
   "execution_count": 8,
   "metadata": {},
   "outputs": [
    {
     "data": {
      "text/plain": [
       "13924"
      ]
     },
     "execution_count": 8,
     "metadata": {},
     "output_type": "execute_result"
    }
   ],
   "source": [
    "# Part One\n",
    "\n",
    "games = [(line[0], line[2]) for line in data.splitlines()]\n",
    "translate = {\"A\": \"rock\", \"B\": \"paper\", \"C\": \"scissors\", \"X\": \"rock\", \"Y\": \"paper\", \"Z\": \"scissors\"}\n",
    "games = [(translate[game[0]], translate[game[1]]) for game in games]\n",
    "\n",
    "shape_scores = [{\"rock\": 1, \"paper\": 2, \"scissors\": 3}[game[1]] for game in games]\n",
    "winners = [(\"rock\", \"paper\"), (\"paper\", \"scissors\"), (\"scissors\", \"rock\")] # Loser < Winner\n",
    "outcome_scores = [6 if game in winners else 3 if game[0]==game[1] else 0 for game in games]\n",
    "\n",
    "sum([shape+outcome for (shape, outcome) in zip(shape_scores, outcome_scores)])"
   ]
  },
  {
   "cell_type": "code",
   "execution_count": 10,
   "metadata": {},
   "outputs": [
    {
     "data": {
      "text/plain": [
       "13448"
      ]
     },
     "execution_count": 10,
     "metadata": {},
     "output_type": "execute_result"
    }
   ],
   "source": [
    "# Part Two\n",
    "\n",
    "games = [(line[0], line[2]) for line in data.splitlines()]\n",
    "translate = {\"A\": \"rock\", \"B\": \"paper\", \"C\": \"scissors\", \"X\": \"lose\", \"Y\": \"draw\", \"Z\": \"win\"}\n",
    "games = [(translate[game[0]], translate[game[1]]) for game in games]\n",
    "\n",
    "shape_scores = {\"rock\": 1, \"paper\": 2, \"scissors\": 3}\n",
    "winners = [\"paper\", \"scissors\", \"rock\"]\n",
    "losers = [\"rock\", \"paper\", \"scissors\"]\n",
    "\n",
    "def score(game):\n",
    "    if game[1]==\"draw\":\n",
    "        return (3, shape_scores[game[0]])\n",
    "    elif game[1]==\"win\":\n",
    "        return (6, shape_scores[winners[losers.index(game[0])]])\n",
    "    elif game[1]==\"lose\":\n",
    "        return (0, shape_scores[losers[winners.index(game[0])]])\n",
    "\n",
    "scores = [score(game) for game in games]\n",
    "sum([outcome + shape for (outcome, shape) in scores])"
   ]
  },
  {
   "cell_type": "code",
   "execution_count": null,
   "metadata": {},
   "outputs": [],
   "source": []
  }
 ],
 "metadata": {
  "kernelspec": {
   "display_name": "Python 3",
   "language": "python",
   "name": "python3"
  },
  "language_info": {
   "codemirror_mode": {
    "name": "ipython",
    "version": 3
   },
   "file_extension": ".py",
   "mimetype": "text/x-python",
   "name": "python",
   "nbconvert_exporter": "python",
   "pygments_lexer": "ipython3",
   "version": "3.8.8"
  }
 },
 "nbformat": 4,
 "nbformat_minor": 4
}
