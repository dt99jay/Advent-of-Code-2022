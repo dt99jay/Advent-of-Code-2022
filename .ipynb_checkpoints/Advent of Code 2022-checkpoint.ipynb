{
 "cells": [
  {
   "cell_type": "markdown",
   "metadata": {},
   "source": [
    "## Advent of Code 2022"
   ]
  },
  {
   "cell_type": "code",
   "execution_count": 1,
   "metadata": {},
   "outputs": [],
   "source": [
    "from aocd import get_data"
   ]
  },
  {
   "cell_type": "markdown",
   "metadata": {},
   "source": [
    "### Day One"
   ]
  },
  {
   "cell_type": "code",
   "execution_count": 2,
   "metadata": {},
   "outputs": [],
   "source": [
    "data = get_data(day=1, year=2022)"
   ]
  },
  {
   "cell_type": "code",
   "execution_count": 3,
   "metadata": {},
   "outputs": [
    {
     "data": {
      "text/plain": [
       "68787"
      ]
     },
     "execution_count": 3,
     "metadata": {},
     "output_type": "execute_result"
    }
   ],
   "source": [
    "# Part One\n",
    "\n",
    "elves = [elf.split(\"\\n\") for elf in data.split(\"\\n\\n\")]\n",
    "calories = [sum([int(calories) for calories in elf]) for elf in elves]\n",
    "max(calories)"
   ]
  },
  {
   "cell_type": "code",
   "execution_count": 4,
   "metadata": {},
   "outputs": [
    {
     "data": {
      "text/plain": [
       "198041"
      ]
     },
     "execution_count": 4,
     "metadata": {},
     "output_type": "execute_result"
    }
   ],
   "source": [
    "# Part Two\n",
    "\n",
    "sum(sorted(calories, reverse=True)[:3])"
   ]
  },
  {
   "cell_type": "markdown",
   "metadata": {},
   "source": [
    "### Day Two"
   ]
  },
  {
   "cell_type": "code",
   "execution_count": 5,
   "metadata": {},
   "outputs": [],
   "source": [
    "data = get_data(day=2, year=2022)"
   ]
  },
  {
   "cell_type": "code",
   "execution_count": 6,
   "metadata": {},
   "outputs": [
    {
     "data": {
      "text/plain": [
       "13924"
      ]
     },
     "execution_count": 6,
     "metadata": {},
     "output_type": "execute_result"
    }
   ],
   "source": [
    "# Part One\n",
    "\n",
    "games = [(line[0], line[2]) for line in data.splitlines()]\n",
    "translate = {\"A\": \"rock\", \"B\": \"paper\", \"C\": \"scissors\", \"X\": \"rock\", \"Y\": \"paper\", \"Z\": \"scissors\"}\n",
    "games = [(translate[game[0]], translate[game[1]]) for game in games]\n",
    "\n",
    "shape_scores = [{\"rock\": 1, \"paper\": 2, \"scissors\": 3}[game[1]] for game in games]\n",
    "winners = [(\"rock\", \"paper\"), (\"paper\", \"scissors\"), (\"scissors\", \"rock\")] # Loser < Winner\n",
    "outcome_scores = [6 if game in winners else 3 if game[0]==game[1] else 0 for game in games]\n",
    "\n",
    "sum([shape+outcome for (shape, outcome) in zip(shape_scores, outcome_scores)])"
   ]
  },
  {
   "cell_type": "code",
   "execution_count": 7,
   "metadata": {},
   "outputs": [
    {
     "data": {
      "text/plain": [
       "13448"
      ]
     },
     "execution_count": 7,
     "metadata": {},
     "output_type": "execute_result"
    }
   ],
   "source": [
    "# Part Two\n",
    "\n",
    "games = [(line[0], line[2]) for line in data.splitlines()]\n",
    "translate = {\"A\": \"rock\", \"B\": \"paper\", \"C\": \"scissors\", \"X\": \"lose\", \"Y\": \"draw\", \"Z\": \"win\"}\n",
    "games = [(translate[game[0]], translate[game[1]]) for game in games]\n",
    "\n",
    "shape_scores = {\"rock\": 1, \"paper\": 2, \"scissors\": 3}\n",
    "winners = [\"paper\", \"scissors\", \"rock\"]\n",
    "losers = [\"rock\", \"paper\", \"scissors\"]\n",
    "\n",
    "def score(game):\n",
    "    if game[1]==\"draw\":\n",
    "        return (3, shape_scores[game[0]])\n",
    "    elif game[1]==\"win\":\n",
    "        return (6, shape_scores[winners[losers.index(game[0])]])\n",
    "    elif game[1]==\"lose\":\n",
    "        return (0, shape_scores[losers[winners.index(game[0])]])\n",
    "\n",
    "scores = [score(game) for game in games]\n",
    "sum([outcome + shape for (outcome, shape) in scores])"
   ]
  },
  {
   "cell_type": "code",
   "execution_count": 8,
   "metadata": {},
   "outputs": [
    {
     "data": {
      "text/plain": [
       "13448"
      ]
     },
     "execution_count": 8,
     "metadata": {},
     "output_type": "execute_result"
    }
   ],
   "source": [
    "# Part Two with a deque instead of winners/losers lists\n",
    "\n",
    "from collections import deque\n",
    "\n",
    "games = [(line[0], line[2]) for line in data.splitlines()]\n",
    "\n",
    "shape_scores = {\"A\": 1, \"B\": 2, \"C\": 3}\n",
    "winners = deque([\"A\", \"B\", \"C\"])\n",
    "\n",
    "def score(game):\n",
    "    while winners.index(game[0])!=1:\n",
    "        winners.rotate() # Rotate until opponent's choice in middle\n",
    "    if game[1]==\"X\":\n",
    "        return shape_scores[winners[0]]\n",
    "    elif game[1]==\"Y\":\n",
    "        return 3 + shape_scores[winners[1]]\n",
    "    elif game[1]==\"Z\":\n",
    "        return 6 + shape_scores[winners[2]]\n",
    "\n",
    "sum([score(game) for game in games])"
   ]
  },
  {
   "cell_type": "markdown",
   "metadata": {},
   "source": [
    "### Day Three"
   ]
  },
  {
   "cell_type": "code",
   "execution_count": 9,
   "metadata": {},
   "outputs": [],
   "source": [
    "data = get_data(day=3, year=2022)"
   ]
  },
  {
   "cell_type": "code",
   "execution_count": 10,
   "metadata": {},
   "outputs": [
    {
     "data": {
      "text/plain": [
       "7889"
      ]
     },
     "execution_count": 10,
     "metadata": {},
     "output_type": "execute_result"
    }
   ],
   "source": [
    "# Part One\n",
    "\n",
    "import string\n",
    "\n",
    "sacks = data.splitlines()\n",
    "common_items = [set(sack[:len(sack)//2]) & set(sack[len(sack)//2:]) for sack in sacks]\n",
    "alphabet = string.ascii_lowercase + string.ascii_uppercase\n",
    "sum([alphabet.index(item)+1 for item, in common_items])"
   ]
  },
  {
   "cell_type": "code",
   "execution_count": 11,
   "metadata": {},
   "outputs": [
    {
     "data": {
      "text/plain": [
       "2825"
      ]
     },
     "execution_count": 11,
     "metadata": {},
     "output_type": "execute_result"
    }
   ],
   "source": [
    "# Part Two\n",
    "\n",
    "def score(i):\n",
    "    badge, = set(sacks[i-1]) & set(sacks[i]) & set(sacks[i+1])\n",
    "    return alphabet.index(badge)+1\n",
    "\n",
    "sum([score(i) for i in range(1, len(sacks)+1, 3)])"
   ]
  },
  {
   "cell_type": "code",
   "execution_count": 12,
   "metadata": {},
   "outputs": [
    {
     "data": {
      "text/plain": [
       "2825"
      ]
     },
     "execution_count": 12,
     "metadata": {},
     "output_type": "execute_result"
    }
   ],
   "source": [
    "# Part Two -- bit clearer\n",
    "\n",
    "def score(group):\n",
    "    badge, = set(group[0]) & set(group[1]) & set(group[2])\n",
    "    return alphabet.index(badge)+1\n",
    "\n",
    "sum([score(sacks[i:i+3]) for i in range(0, len(sacks), 3)])"
   ]
  },
  {
   "cell_type": "code",
   "execution_count": 13,
   "metadata": {},
   "outputs": [
    {
     "data": {
      "text/plain": [
       "2825"
      ]
     },
     "execution_count": 13,
     "metadata": {},
     "output_type": "execute_result"
    }
   ],
   "source": [
    "# Part Two with `chunked` from more_itertools\n",
    "\n",
    "from more_itertools import chunked\n",
    "\n",
    "def score(group):\n",
    "    badge, = set(group[0]) & set(group[1]) & set(group[2])\n",
    "    return alphabet.index(badge)+1\n",
    "\n",
    "sum([score(group) for group in chunked(sacks, 3)])"
   ]
  },
  {
   "cell_type": "markdown",
   "metadata": {},
   "source": [
    "### Day Four"
   ]
  },
  {
   "cell_type": "code",
   "execution_count": 14,
   "metadata": {},
   "outputs": [],
   "source": [
    "data = get_data(day=4, year=2022)"
   ]
  },
  {
   "cell_type": "code",
   "execution_count": 15,
   "metadata": {},
   "outputs": [
    {
     "data": {
      "text/plain": [
       "431"
      ]
     },
     "execution_count": 15,
     "metadata": {},
     "output_type": "execute_result"
    }
   ],
   "source": [
    "# Part One\n",
    "\n",
    "pairs = [pair.split(\",\") for pair in data.splitlines()]\n",
    "edges = [[edge.split(\"-\") for edge in elf] for elf in pairs]\n",
    "ranges = [[set(range(int(e[0]), int(e[1])+1)) for e in edge] for edge in edges]\n",
    "sum([1 for elf in ranges if elf[0] <= elf[1] or elf[0] >= elf[1]])"
   ]
  },
  {
   "cell_type": "code",
   "execution_count": 16,
   "metadata": {},
   "outputs": [
    {
     "data": {
      "text/plain": [
       "823"
      ]
     },
     "execution_count": 16,
     "metadata": {},
     "output_type": "execute_result"
    }
   ],
   "source": [
    "# Part Two\n",
    "\n",
    "sum([1 for elf in ranges if elf[0] & elf[1]])"
   ]
  },
  {
   "cell_type": "markdown",
   "metadata": {},
   "source": [
    "### Day Five"
   ]
  },
  {
   "cell_type": "code",
   "execution_count": 17,
   "metadata": {},
   "outputs": [],
   "source": [
    "data = get_data(day=5, year=2022)"
   ]
  },
  {
   "cell_type": "code",
   "execution_count": 18,
   "metadata": {},
   "outputs": [
    {
     "data": {
      "text/plain": [
       "'BZLVHBWQF'"
      ]
     },
     "execution_count": 18,
     "metadata": {},
     "output_type": "execute_result"
    }
   ],
   "source": [
    "# Part One\n",
    "\n",
    "import re\n",
    "import copy\n",
    "\n",
    "\"\"\" # First approach to parsing stacks with regex -- but prefer reading nth char as below\n",
    "stacks, rearrangement = data.split(\"\\n\\n\")\n",
    "stack_count = int((max(re.findall(r\"\\d+\", stacks.splitlines()[-1]))))\n",
    "stacks = [re.finditer(r\"\\[([A-Z])\\]\", stack) for stack in stacks.splitlines()[:-1]]\n",
    "crates = {i+1: [] for i in range(stack_count)}\n",
    "\n",
    "for stack in stacks:\n",
    "    for crate in stack:\n",
    "        crates[int(crate.start()/4)+1].append(crate.groups()[0])\n",
    "\"\"\"\n",
    "\n",
    "stacks, instructions = data.split(\"\\n\\n\")\n",
    "stacks = [list(stack[1::4]) for stack in stacks.splitlines()[:-1]] # Read every 4th char\n",
    "stacks = [list(stack) for stack in zip(*stacks)] # Transpose list of lists\n",
    "stacks = {k+1: [crate for crate in stack if not crate.isspace()] for k, stack in enumerate(stacks)}\n",
    "\n",
    "stacks_rearranged = copy.deepcopy(stacks)\n",
    "        \n",
    "for instruction in instructions.splitlines():\n",
    "    quantity, source, target = [int(i) for i in re.findall(r\"\\d+\", instruction)]\n",
    "    for q in range(quantity):\n",
    "        stacks_rearranged[target].insert(0, stacks_rearranged[source].pop(0))\n",
    "\n",
    "\"\".join([stacks_rearranged[k][0] for k in sorted(stacks_rearranged.keys())])"
   ]
  },
  {
   "cell_type": "code",
   "execution_count": 19,
   "metadata": {},
   "outputs": [
    {
     "data": {
      "text/plain": [
       "'TDGJQTZSL'"
      ]
     },
     "execution_count": 19,
     "metadata": {},
     "output_type": "execute_result"
    }
   ],
   "source": [
    "# Part Two\n",
    "\n",
    "stacks_rearranged = copy.deepcopy(stacks)\n",
    "\n",
    "for instruction in instructions.splitlines():\n",
    "    quantity, source, target = [int(i) for i in re.findall(r\"\\d+\", instruction)]\n",
    "    stacks_rearranged[target][:0] = stacks_rearranged[source][:int(quantity)]\n",
    "    stacks_rearranged[source] = stacks_rearranged[source][int(quantity):]\n",
    "\n",
    "\"\".join([stacks_rearranged[k][0] for k in sorted(stacks_rearranged.keys())])"
   ]
  },
  {
   "cell_type": "markdown",
   "metadata": {},
   "source": [
    "## Day Six"
   ]
  },
  {
   "cell_type": "code",
   "execution_count": 20,
   "metadata": {},
   "outputs": [],
   "source": [
    "data = get_data(day=6, year=2022)"
   ]
  },
  {
   "cell_type": "code",
   "execution_count": 21,
   "metadata": {},
   "outputs": [
    {
     "data": {
      "text/plain": [
       "1802"
      ]
     },
     "execution_count": 21,
     "metadata": {},
     "output_type": "execute_result"
    }
   ],
   "source": [
    "from more_itertools import windowed\n",
    "\n",
    "marker = [marker for marker in windowed(data, 4) if len(set(marker))==4][0]\n",
    "data.find(\"\".join(marker))+4"
   ]
  },
  {
   "cell_type": "code",
   "execution_count": 22,
   "metadata": {},
   "outputs": [
    {
     "data": {
      "text/plain": [
       "3551"
      ]
     },
     "execution_count": 22,
     "metadata": {},
     "output_type": "execute_result"
    }
   ],
   "source": [
    "marker = [marker for marker in windowed(data, 14) if len(set(marker))==14][0]\n",
    "data.find(\"\".join(marker))+14"
   ]
  },
  {
   "cell_type": "code",
   "execution_count": null,
   "metadata": {},
   "outputs": [],
   "source": []
  }
 ],
 "metadata": {
  "kernelspec": {
   "display_name": "Python 3",
   "language": "python",
   "name": "python3"
  },
  "language_info": {
   "codemirror_mode": {
    "name": "ipython",
    "version": 3
   },
   "file_extension": ".py",
   "mimetype": "text/x-python",
   "name": "python",
   "nbconvert_exporter": "python",
   "pygments_lexer": "ipython3",
   "version": "3.8.8"
  }
 },
 "nbformat": 4,
 "nbformat_minor": 4
}
