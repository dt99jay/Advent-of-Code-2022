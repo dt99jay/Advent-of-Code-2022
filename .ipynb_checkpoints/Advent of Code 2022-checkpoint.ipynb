{
 "cells": [
  {
   "cell_type": "markdown",
   "metadata": {},
   "source": [
    "## Advent of Code 2022"
   ]
  },
  {
   "cell_type": "code",
   "execution_count": 69,
   "metadata": {},
   "outputs": [],
   "source": [
    "from aocd import get_data"
   ]
  },
  {
   "cell_type": "code",
   "execution_count": 73,
   "metadata": {},
   "outputs": [],
   "source": [
    "# Day One\n",
    "\n",
    "data = get_data(day=1, year=2022)"
   ]
  },
  {
   "cell_type": "code",
   "execution_count": 71,
   "metadata": {},
   "outputs": [
    {
     "data": {
      "text/plain": [
       "68787"
      ]
     },
     "execution_count": 71,
     "metadata": {},
     "output_type": "execute_result"
    }
   ],
   "source": [
    "# Part One\n",
    "\n",
    "elves = [elf.split(\"\\n\") for elf in data.split(\"\\n\\n\")]\n",
    "calories = [sum([int(calories) for calories in elf]) for elf in elves]\n",
    "max(calories)"
   ]
  },
  {
   "cell_type": "code",
   "execution_count": 72,
   "metadata": {},
   "outputs": [
    {
     "data": {
      "text/plain": [
       "198041"
      ]
     },
     "execution_count": 72,
     "metadata": {},
     "output_type": "execute_result"
    }
   ],
   "source": [
    "# Part Two\n",
    "\n",
    "sum(sorted(calories, reverse=True)[:3])"
   ]
  },
  {
   "cell_type": "code",
   "execution_count": 126,
   "metadata": {},
   "outputs": [],
   "source": [
    "# Day Two\n",
    "\n",
    "data = \"\"\"A Y\n",
    "B X\n",
    "C Z\"\"\""
   ]
  },
  {
   "cell_type": "code",
   "execution_count": 122,
   "metadata": {},
   "outputs": [],
   "source": [
    "#data = get_data(day=2, year=2022)"
   ]
  },
  {
   "cell_type": "code",
   "execution_count": 123,
   "metadata": {},
   "outputs": [
    {
     "data": {
      "text/plain": [
       "13924"
      ]
     },
     "execution_count": 123,
     "metadata": {},
     "output_type": "execute_result"
    }
   ],
   "source": [
    "# Part One\n",
    "\n",
    "games = [(line[0], line[2]) for line in data.splitlines()]\n",
    "translate = {\"A\": \"rock\", \"B\": \"paper\", \"C\": \"scissors\", \"X\": \"rock\", \"Y\": \"paper\", \"Z\": \"scissors\"}\n",
    "games = [(translate[game[0]], translate[game[1]]) for game in games]\n",
    "\n",
    "shape_scores = [{\"rock\": 1, \"paper\": 2, \"scissors\": 3}[game[1]] for game in games]\n",
    "wins = [(\"rock\", \"paper\"), (\"paper\", \"scissors\"), (\"scissors\", \"rock\")] # Loser < Winner\n",
    "outcome_scores = [6 if game in wins else 3 if game[0]==game[1] else 0 for game in games]\n",
    "\n",
    "sum([shape+outcome for (shape, outcome) in zip(shape_scores, outcome_scores)])"
   ]
  },
  {
   "cell_type": "code",
   "execution_count": 130,
   "metadata": {},
   "outputs": [
    {
     "data": {
      "text/plain": [
       "[1, 2, 3]"
      ]
     },
     "execution_count": 130,
     "metadata": {},
     "output_type": "execute_result"
    }
   ],
   "source": [
    "# Part Two\n",
    "\n",
    "games = [(line[0], line[2]) for line in data.splitlines()]\n",
    "translate = {\"A\": \"rock\", \"B\": \"paper\", \"C\": \"scissors\", \"X\": \"lose\", \"Y\": \"draw\", \"Z\": \"win\"}\n",
    "games = [(translate[game[0]], translate[game[1]]) for game in games]\n",
    "outcome_scores = [{\"win\": 6, \"lose\": 0, \"draw\": 3}[game[1]] for game in games]\n",
    "\n",
    "#shape_scores = [{\"rock\": 1, \"paper\": 2, \"scissors\": 3}[game[0]] for game in games]\n",
    "#shape_scores"
   ]
  },
  {
   "cell_type": "code",
   "execution_count": null,
   "metadata": {},
   "outputs": [],
   "source": []
  }
 ],
 "metadata": {
  "kernelspec": {
   "display_name": "Python 3",
   "language": "python",
   "name": "python3"
  },
  "language_info": {
   "codemirror_mode": {
    "name": "ipython",
    "version": 3
   },
   "file_extension": ".py",
   "mimetype": "text/x-python",
   "name": "python",
   "nbconvert_exporter": "python",
   "pygments_lexer": "ipython3",
   "version": "3.8.8"
  }
 },
 "nbformat": 4,
 "nbformat_minor": 4
}
