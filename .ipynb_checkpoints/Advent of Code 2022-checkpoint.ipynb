{
 "cells": [
  {
   "cell_type": "markdown",
   "metadata": {},
   "source": [
    "## Advent of Code 2022"
   ]
  },
  {
   "cell_type": "code",
   "execution_count": 1,
   "metadata": {},
   "outputs": [],
   "source": [
    "from aocd import get_data"
   ]
  },
  {
   "cell_type": "markdown",
   "metadata": {},
   "source": [
    "### Day One"
   ]
  },
  {
   "cell_type": "code",
   "execution_count": 2,
   "metadata": {},
   "outputs": [],
   "source": [
    "data = get_data(day=1, year=2022)"
   ]
  },
  {
   "cell_type": "code",
   "execution_count": 3,
   "metadata": {},
   "outputs": [
    {
     "data": {
      "text/plain": [
       "68787"
      ]
     },
     "execution_count": 3,
     "metadata": {},
     "output_type": "execute_result"
    }
   ],
   "source": [
    "# Part One\n",
    "\n",
    "elves = [elf.split(\"\\n\") for elf in data.split(\"\\n\\n\")]\n",
    "calories = [sum([int(calories) for calories in elf]) for elf in elves]\n",
    "max(calories)"
   ]
  },
  {
   "cell_type": "code",
   "execution_count": 4,
   "metadata": {},
   "outputs": [
    {
     "data": {
      "text/plain": [
       "198041"
      ]
     },
     "execution_count": 4,
     "metadata": {},
     "output_type": "execute_result"
    }
   ],
   "source": [
    "# Part Two\n",
    "\n",
    "sum(sorted(calories, reverse=True)[:3])"
   ]
  },
  {
   "cell_type": "markdown",
   "metadata": {},
   "source": [
    "### Day Two"
   ]
  },
  {
   "cell_type": "code",
   "execution_count": 5,
   "metadata": {},
   "outputs": [],
   "source": [
    "data = get_data(day=2, year=2022)"
   ]
  },
  {
   "cell_type": "code",
   "execution_count": 6,
   "metadata": {},
   "outputs": [
    {
     "data": {
      "text/plain": [
       "13924"
      ]
     },
     "execution_count": 6,
     "metadata": {},
     "output_type": "execute_result"
    }
   ],
   "source": [
    "# Part One\n",
    "\n",
    "games = [(line[0], line[2]) for line in data.splitlines()]\n",
    "translate = {\"A\": \"rock\", \"B\": \"paper\", \"C\": \"scissors\", \"X\": \"rock\", \"Y\": \"paper\", \"Z\": \"scissors\"}\n",
    "games = [(translate[game[0]], translate[game[1]]) for game in games]\n",
    "\n",
    "shape_scores = [{\"rock\": 1, \"paper\": 2, \"scissors\": 3}[game[1]] for game in games]\n",
    "winners = [(\"rock\", \"paper\"), (\"paper\", \"scissors\"), (\"scissors\", \"rock\")] # Loser < Winner\n",
    "outcome_scores = [6 if game in winners else 3 if game[0]==game[1] else 0 for game in games]\n",
    "\n",
    "sum([shape+outcome for (shape, outcome) in zip(shape_scores, outcome_scores)])"
   ]
  },
  {
   "cell_type": "code",
   "execution_count": 7,
   "metadata": {},
   "outputs": [
    {
     "data": {
      "text/plain": [
       "13448"
      ]
     },
     "execution_count": 7,
     "metadata": {},
     "output_type": "execute_result"
    }
   ],
   "source": [
    "# Part Two\n",
    "\n",
    "games = [(line[0], line[2]) for line in data.splitlines()]\n",
    "translate = {\"A\": \"rock\", \"B\": \"paper\", \"C\": \"scissors\", \"X\": \"lose\", \"Y\": \"draw\", \"Z\": \"win\"}\n",
    "games = [(translate[game[0]], translate[game[1]]) for game in games]\n",
    "\n",
    "shape_scores = {\"rock\": 1, \"paper\": 2, \"scissors\": 3}\n",
    "winners = [\"paper\", \"scissors\", \"rock\"]\n",
    "losers = [\"rock\", \"paper\", \"scissors\"]\n",
    "\n",
    "def score(game):\n",
    "    if game[1]==\"draw\":\n",
    "        return (3, shape_scores[game[0]])\n",
    "    elif game[1]==\"win\":\n",
    "        return (6, shape_scores[winners[losers.index(game[0])]])\n",
    "    elif game[1]==\"lose\":\n",
    "        return (0, shape_scores[losers[winners.index(game[0])]])\n",
    "\n",
    "scores = [score(game) for game in games]\n",
    "sum([outcome + shape for (outcome, shape) in scores])"
   ]
  },
  {
   "cell_type": "code",
   "execution_count": 8,
   "metadata": {},
   "outputs": [
    {
     "data": {
      "text/plain": [
       "13448"
      ]
     },
     "execution_count": 8,
     "metadata": {},
     "output_type": "execute_result"
    }
   ],
   "source": [
    "# Part Two with a deque instead of winners/losers lists\n",
    "\n",
    "from collections import deque\n",
    "\n",
    "games = [(line[0], line[2]) for line in data.splitlines()]\n",
    "\n",
    "shape_scores = {\"A\": 1, \"B\": 2, \"C\": 3}\n",
    "winners = deque([\"A\", \"B\", \"C\"])\n",
    "\n",
    "def score(game):\n",
    "    while winners.index(game[0])!=1:\n",
    "        winners.rotate() # Rotate until opponent's choice in middle\n",
    "    if game[1]==\"X\":\n",
    "        return shape_scores[winners[0]]\n",
    "    elif game[1]==\"Y\":\n",
    "        return 3 + shape_scores[winners[1]]\n",
    "    elif game[1]==\"Z\":\n",
    "        return 6 + shape_scores[winners[2]]\n",
    "\n",
    "sum([score(game) for game in games])"
   ]
  },
  {
   "cell_type": "markdown",
   "metadata": {},
   "source": [
    "### Day Three"
   ]
  },
  {
   "cell_type": "code",
   "execution_count": 9,
   "metadata": {},
   "outputs": [],
   "source": [
    "data = get_data(day=3, year=2022)"
   ]
  },
  {
   "cell_type": "code",
   "execution_count": 10,
   "metadata": {},
   "outputs": [
    {
     "data": {
      "text/plain": [
       "7889"
      ]
     },
     "execution_count": 10,
     "metadata": {},
     "output_type": "execute_result"
    }
   ],
   "source": [
    "# Part One\n",
    "\n",
    "import string\n",
    "\n",
    "sacks = data.splitlines()\n",
    "common_items = [set(sack[:len(sack)//2]) & set(sack[len(sack)//2:]) for sack in sacks]\n",
    "alphabet = string.ascii_lowercase + string.ascii_uppercase\n",
    "sum([alphabet.index(item)+1 for item, in common_items])"
   ]
  },
  {
   "cell_type": "code",
   "execution_count": 11,
   "metadata": {},
   "outputs": [
    {
     "data": {
      "text/plain": [
       "2825"
      ]
     },
     "execution_count": 11,
     "metadata": {},
     "output_type": "execute_result"
    }
   ],
   "source": [
    "# Part Two\n",
    "\n",
    "def score(i):\n",
    "    badge, = set(sacks[i-1]) & set(sacks[i]) & set(sacks[i+1])\n",
    "    return alphabet.index(badge)+1\n",
    "\n",
    "sum([score(i) for i in range(1, len(sacks)+1, 3)])"
   ]
  },
  {
   "cell_type": "code",
   "execution_count": 12,
   "metadata": {},
   "outputs": [
    {
     "data": {
      "text/plain": [
       "2825"
      ]
     },
     "execution_count": 12,
     "metadata": {},
     "output_type": "execute_result"
    }
   ],
   "source": [
    "# Part Two -- bit clearer\n",
    "\n",
    "def score(group):\n",
    "    badge, = set(group[0]) & set(group[1]) & set(group[2])\n",
    "    return alphabet.index(badge)+1\n",
    "\n",
    "sum([score(sacks[i:i+3]) for i in range(0, len(sacks), 3)])"
   ]
  },
  {
   "cell_type": "code",
   "execution_count": 13,
   "metadata": {},
   "outputs": [
    {
     "data": {
      "text/plain": [
       "2825"
      ]
     },
     "execution_count": 13,
     "metadata": {},
     "output_type": "execute_result"
    }
   ],
   "source": [
    "# Part Two with `chunked` from more_itertools\n",
    "\n",
    "from more_itertools import chunked\n",
    "\n",
    "def score(group):\n",
    "    badge, = set(group[0]) & set(group[1]) & set(group[2])\n",
    "    return alphabet.index(badge)+1\n",
    "\n",
    "sum([score(group) for group in chunked(sacks, 3)])"
   ]
  },
  {
   "cell_type": "markdown",
   "metadata": {},
   "source": [
    "### Day Four"
   ]
  },
  {
   "cell_type": "code",
   "execution_count": 14,
   "metadata": {},
   "outputs": [],
   "source": [
    "data = get_data(day=4, year=2022)"
   ]
  },
  {
   "cell_type": "code",
   "execution_count": 15,
   "metadata": {},
   "outputs": [
    {
     "data": {
      "text/plain": [
       "431"
      ]
     },
     "execution_count": 15,
     "metadata": {},
     "output_type": "execute_result"
    }
   ],
   "source": [
    "# Part One\n",
    "\n",
    "pairs = [pair.split(\",\") for pair in data.splitlines()]\n",
    "edges = [[edge.split(\"-\") for edge in elf] for elf in pairs]\n",
    "ranges = [[set(range(int(e[0]), int(e[1])+1)) for e in edge] for edge in edges]\n",
    "sum([1 for elf in ranges if elf[0] <= elf[1] or elf[0] >= elf[1]])"
   ]
  },
  {
   "cell_type": "code",
   "execution_count": 16,
   "metadata": {},
   "outputs": [
    {
     "data": {
      "text/plain": [
       "823"
      ]
     },
     "execution_count": 16,
     "metadata": {},
     "output_type": "execute_result"
    }
   ],
   "source": [
    "# Part Two\n",
    "\n",
    "sum([1 for elf in ranges if elf[0] & elf[1]])"
   ]
  },
  {
   "cell_type": "markdown",
   "metadata": {},
   "source": [
    "### Day Five"
   ]
  },
  {
   "cell_type": "code",
   "execution_count": 17,
   "metadata": {},
   "outputs": [],
   "source": [
    "data = get_data(day=5, year=2022)"
   ]
  },
  {
   "cell_type": "code",
   "execution_count": 18,
   "metadata": {},
   "outputs": [
    {
     "data": {
      "text/plain": [
       "'BZLVHBWQF'"
      ]
     },
     "execution_count": 18,
     "metadata": {},
     "output_type": "execute_result"
    }
   ],
   "source": [
    "# Part One\n",
    "\n",
    "import re\n",
    "import copy\n",
    "\n",
    "\"\"\" # First approach to parsing stacks with regex -- but prefer reading nth char as below\n",
    "stacks, rearrangement = data.split(\"\\n\\n\")\n",
    "stack_count = int((max(re.findall(r\"\\d+\", stacks.splitlines()[-1]))))\n",
    "stacks = [re.finditer(r\"\\[([A-Z])\\]\", stack) for stack in stacks.splitlines()[:-1]]\n",
    "crates = {i+1: [] for i in range(stack_count)}\n",
    "\n",
    "for stack in stacks:\n",
    "    for crate in stack:\n",
    "        crates[int(crate.start()/4)+1].append(crate.groups()[0])\n",
    "\"\"\"\n",
    "\n",
    "stacks, instructions = data.split(\"\\n\\n\")\n",
    "stacks = [list(stack[1::4]) for stack in stacks.splitlines()[:-1]] # Read every 4th char\n",
    "stacks = [list(stack) for stack in zip(*stacks)] # Transpose list of lists\n",
    "stacks = {k+1: [crate for crate in stack if not crate.isspace()] for k, stack in enumerate(stacks)}\n",
    "\n",
    "stacks_rearranged = copy.deepcopy(stacks)\n",
    "        \n",
    "for instruction in instructions.splitlines():\n",
    "    quantity, source, target = [int(i) for i in re.findall(r\"\\d+\", instruction)]\n",
    "    for q in range(quantity):\n",
    "        stacks_rearranged[target].insert(0, stacks_rearranged[source].pop(0))\n",
    "\n",
    "\"\".join([stacks_rearranged[k][0] for k in sorted(stacks_rearranged.keys())])"
   ]
  },
  {
   "cell_type": "code",
   "execution_count": 19,
   "metadata": {},
   "outputs": [
    {
     "data": {
      "text/plain": [
       "'TDGJQTZSL'"
      ]
     },
     "execution_count": 19,
     "metadata": {},
     "output_type": "execute_result"
    }
   ],
   "source": [
    "# Part Two\n",
    "\n",
    "stacks_rearranged = copy.deepcopy(stacks)\n",
    "\n",
    "for instruction in instructions.splitlines():\n",
    "    quantity, source, target = [int(i) for i in re.findall(r\"\\d+\", instruction)]\n",
    "    stacks_rearranged[target][:0] = stacks_rearranged[source][:int(quantity)]\n",
    "    stacks_rearranged[source] = stacks_rearranged[source][int(quantity):]\n",
    "\n",
    "\"\".join([stacks_rearranged[k][0] for k in sorted(stacks_rearranged.keys())])"
   ]
  },
  {
   "cell_type": "markdown",
   "metadata": {},
   "source": [
    "### Day Six"
   ]
  },
  {
   "cell_type": "code",
   "execution_count": 20,
   "metadata": {},
   "outputs": [],
   "source": [
    "data = get_data(day=6, year=2022)"
   ]
  },
  {
   "cell_type": "code",
   "execution_count": 21,
   "metadata": {},
   "outputs": [
    {
     "name": "stdout",
     "output_type": "stream",
     "text": [
      "CPU times: user 3 µs, sys: 0 ns, total: 3 µs\n",
      "Wall time: 5.01 µs\n"
     ]
    },
    {
     "data": {
      "text/plain": [
       "1802"
      ]
     },
     "execution_count": 21,
     "metadata": {},
     "output_type": "execute_result"
    }
   ],
   "source": [
    "%time\n",
    "\n",
    "# Part One\n",
    "\n",
    "from more_itertools import windowed\n",
    "\n",
    "marker = [marker for marker in windowed(data, 4) if len(set(marker))==4][0]\n",
    "data.find(\"\".join(marker))+4"
   ]
  },
  {
   "cell_type": "code",
   "execution_count": 22,
   "metadata": {},
   "outputs": [
    {
     "data": {
      "text/plain": [
       "3551"
      ]
     },
     "execution_count": 22,
     "metadata": {},
     "output_type": "execute_result"
    }
   ],
   "source": [
    "# Part Two\n",
    "\n",
    "marker = [marker for marker in windowed(data, 14) if len(set(marker))==14][0]\n",
    "data.find(\"\".join(marker))+14"
   ]
  },
  {
   "cell_type": "code",
   "execution_count": 23,
   "metadata": {},
   "outputs": [
    {
     "name": "stdout",
     "output_type": "stream",
     "text": [
      "CPU times: user 5.59 ms, sys: 513 µs, total: 6.1 ms\n",
      "Wall time: 5.96 ms\n"
     ]
    },
    {
     "data": {
      "text/plain": [
       "1802"
      ]
     },
     "execution_count": 23,
     "metadata": {},
     "output_type": "execute_result"
    }
   ],
   "source": [
    "%%time\n",
    "\n",
    "# Part One -- trying a deque\n",
    "\n",
    "signal = list(data)\n",
    "marker = deque(4*[], 4)\n",
    "i=0\n",
    "while len(set(marker))!=4:\n",
    "    marker.append(signal.pop(0))\n",
    "    i+=1\n",
    "i"
   ]
  },
  {
   "cell_type": "markdown",
   "metadata": {},
   "source": [
    "### Day Seven"
   ]
  },
  {
   "cell_type": "code",
   "execution_count": 24,
   "metadata": {},
   "outputs": [],
   "source": [
    "data = get_data(day=7, year=2022)"
   ]
  },
  {
   "cell_type": "code",
   "execution_count": 25,
   "metadata": {},
   "outputs": [
    {
     "data": {
      "text/plain": [
       "1084134"
      ]
     },
     "execution_count": 25,
     "metadata": {},
     "output_type": "execute_result"
    }
   ],
   "source": [
    "# Part One\n",
    "\n",
    "from anytree import Node, RenderTree, search, PreOrderIter\n",
    "\n",
    "commands = data.split(\"$ \")[1:]\n",
    "commands = [(cmd[:cmd.find(\"\\n\")], cmd[cmd.find(\"\\n\")+1:].splitlines()) for cmd in commands]\n",
    "\n",
    "cwd = [Node(\"/\", size=0)]\n",
    "\n",
    "for cmd, resp in commands[1:]:\n",
    "    if cmd==\"ls\":\n",
    "        files = [(file.split()[1], file.split()[0]) for file in resp]\n",
    "        names = [file.split()[1] for file in resp]\n",
    "        sizes = [int(file.split()[0]) if file.split()[0].isdigit() else 0 for file in resp]\n",
    "        [Node(name, parent=cwd[-1], size=size) for name, size in zip(names, sizes)]\n",
    "    elif cmd.startswith(\"cd\"):\n",
    "        target = cmd.split()[1]\n",
    "        if target == \"..\":\n",
    "            cwd.pop()\n",
    "        else:\n",
    "            cwd.append(search.find(cwd[-1], lambda node: node.name==target and node.parent==cwd[-1]))\n",
    "\n",
    "total = 0\n",
    "for parent in PreOrderIter(cwd[0]):\n",
    "    size = sum([node.size for node in PreOrderIter(parent)])\n",
    "    if parent.size == 0 and size < 100000:\n",
    "        total += size\n",
    "total"
   ]
  },
  {
   "cell_type": "code",
   "execution_count": 26,
   "metadata": {},
   "outputs": [
    {
     "data": {
      "text/plain": [
       "6183184"
      ]
     },
     "execution_count": 26,
     "metadata": {},
     "output_type": "execute_result"
    }
   ],
   "source": [
    "# Part Two\n",
    "\n",
    "used = sum([node.size for node in PreOrderIter(cwd[0])])\n",
    "remaining = 70000000-used\n",
    "to_find = 30000000-remaining\n",
    "\n",
    "folders = []\n",
    "for parent in PreOrderIter(cwd[0]):\n",
    "    size = sum([node.size for node in PreOrderIter(parent)])\n",
    "    if parent.size == 0:\n",
    "        folders.append({\"dir\": parent, \"size\": size})\n",
    "\n",
    "folders = sorted(folders, key=lambda folder: folder[\"size\"])\n",
    "min(folders, key=lambda folder: abs(folder[\"size\"]-to_find))[\"size\"]"
   ]
  },
  {
   "cell_type": "code",
   "execution_count": 27,
   "metadata": {},
   "outputs": [
    {
     "name": "stdout",
     "output_type": "stream",
     "text": [
      " / 0\n",
      "├──  grdd 0\n",
      "│   ├──  mqbz.fcp 233044\n",
      "│   ├──  nnch 0\n",
      "│   │   └──  mqbz.fcp 4014\n",
      "│   ├──  rgtvsqsh.psq 82939\n",
      "│   └──  srvg.dth 150253\n",
      "├──  hjlvwtph.jzv 270251\n",
      "├──  jzmgcj.gmd 230026\n",
      "├──  nns 0\n",
      "│   ├──  cgbdghtd 0\n",
      "│   │   └──  jrrcdgz.szm 276941\n",
      "│   ├──  dnh 0\n",
      "│   │   ├──  nnch 269539\n",
      "│   │   └──  sjzmpwwb 220637\n",
      "│   ├──  gjhp 0\n",
      "│   │   ├──  czclvmwc 0\n",
      "│   │   │   ├──  fzqvvlg 179729\n",
      "│   │   │   └──  pmsdthr.prv 67916\n",
      "│   │   └──  jgtzfsm 0\n",
      "│   │       └──  rcggj.nwm 151591\n",
      "│   ├──  jwjm 0\n",
      "│   │   └──  nnch 203559\n",
      "│   ├──  mrpfzd 0\n",
      "│   │   ├──  pfnglqgw 0\n",
      "│   │   │   ├──  wvzw 0\n",
      "│   │   │   │   ├──  jpn.ndh 195912\n",
      "│   │   │   │   ├──  nnch.djz 143238\n",
      "│   │   │   │   ├──  pmsdthr.prv 2239\n",
      "│   │   │   │   └──  sfqq 0\n",
      "│   │   │   │       ├──  pthmqd 134913\n",
      "│   │   │   │       └──  vcdhz 0\n",
      "│   │   │   │           └──  ffhv.jnq 13800\n",
      "│   │   │   └──  ztl 0\n",
      "│   │   │       ├──  mqbz.fcp 181007\n",
      "│   │   │       └──  zbpjz.gbr 266517\n",
      "│   │   ├──  qscs.vpq 204978\n",
      "│   │   └──  tbfwpmp.hvl 16184\n",
      "│   ├──  ncvv 0\n",
      "│   │   ├──  ccmvjm.bjb 296494\n",
      "│   │   ├──  hjr 20801\n",
      "│   │   ├──  mqbz.fcp 32494\n",
      "│   │   ├──  nnch 0\n",
      "│   │   │   ├──  hjzpfvm 0\n",
      "│   │   │   │   ├──  mqbz.fcp 304078\n",
      "│   │   │   │   ├──  nnch 0\n",
      "│   │   │   │   │   ├──  gqmpvplj.vjg 311625\n",
      "│   │   │   │   │   └──  ndfcj 248744\n",
      "│   │   │   │   ├──  nnch.lrw 146425\n",
      "│   │   │   │   ├──  vcfglm 0\n",
      "│   │   │   │   │   ├──  btptvs 0\n",
      "│   │   │   │   │   │   ├──  nqnnwq.rtz 127157\n",
      "│   │   │   │   │   │   └──  pmsdthr.prv 16115\n",
      "│   │   │   │   │   ├──  ghpvzvzp 0\n",
      "│   │   │   │   │   │   └──  ncvv 0\n",
      "│   │   │   │   │   │       └──  pmsdthr.prv 236869\n",
      "│   │   │   │   │   └──  nnch 146354\n",
      "│   │   │   │   └──  zhscvh 0\n",
      "│   │   │   │       └──  glpz 225337\n",
      "│   │   │   ├──  ncvv 0\n",
      "│   │   │   │   ├──  nljtcssr 0\n",
      "│   │   │   │   │   ├──  gqmpvplj.vjg 258085\n",
      "│   │   │   │   │   ├──  ncvv 0\n",
      "│   │   │   │   │   │   └──  ndfcj.sfr 147686\n",
      "│   │   │   │   │   ├──  qmzfgcr 0\n",
      "│   │   │   │   │   │   └──  ndfcj.nlj 162245\n",
      "│   │   │   │   │   ├──  wznr.gbs 249049\n",
      "│   │   │   │   │   └──  zvvpqlmq 0\n",
      "│   │   │   │   │       └──  ggnc 160481\n",
      "│   │   │   │   └──  svjhsvjh 0\n",
      "│   │   │   │       ├──  bjqbmt 0\n",
      "│   │   │   │       │   ├──  ndfcj.wzg 252614\n",
      "│   │   │   │       │   ├──  nnch 153886\n",
      "│   │   │   │       │   └──  zhmdvb 214625\n",
      "│   │   │   │       ├──  gqmpvplj.vjg 58138\n",
      "│   │   │   │       ├──  nsvf 0\n",
      "│   │   │   │       │   └──  nnch.jfg 274932\n",
      "│   │   │   │       ├──  rrhjs.gch 154398\n",
      "│   │   │   │       └──  wmvhmlr 0\n",
      "│   │   │   │           └──  nnch 137205\n",
      "│   │   │   ├──  pffr 0\n",
      "│   │   │   │   ├──  cwpnzngf.swg 89895\n",
      "│   │   │   │   ├──  jgv 197833\n",
      "│   │   │   │   ├──  jjhzddp.fbb 184768\n",
      "│   │   │   │   └──  tpngfdsg.brv 31033\n",
      "│   │   │   ├──  pfnglqgw 0\n",
      "│   │   │   │   └──  ccmvjm.bjb 228015\n",
      "│   │   │   └──  ssdffgsq 0\n",
      "│   │   │       ├──  gqmpvplj.vjg 165887\n",
      "│   │   │       ├──  lfq 0\n",
      "│   │   │       │   ├──  gqmpvplj.vjg 257411\n",
      "│   │   │       │   ├──  jzmgcj.gmd 137375\n",
      "│   │   │       │   └──  nsbsgd.zvq 267329\n",
      "│   │   │       ├──  nnch 0\n",
      "│   │   │       │   ├──  mrfwfq 0\n",
      "│   │   │       │   │   └──  lsfsh.mvr 100447\n",
      "│   │   │       │   └──  ndhqthf.jlp 171186\n",
      "│   │   │       ├──  qjb.mnp 170828\n",
      "│   │   │       └──  ttj 0\n",
      "│   │   │           ├──  ndfcj 49634\n",
      "│   │   │           └──  tqvld 0\n",
      "│   │   │               └──  ndfcj 0\n",
      "│   │   │                   ├──  gnzj 0\n",
      "│   │   │                   │   └──  wtpzrpn 0\n",
      "│   │   │                   │       ├──  gqmpvplj.vjg 33840\n",
      "│   │   │                   │       └──  rrfflbql.vws 18122\n",
      "│   │   │                   ├──  pmlnbvj 80690\n",
      "│   │   │                   └──  zbrfmfgj.lzr 12843\n",
      "│   │   ├──  pfnglqgw 0\n",
      "│   │   │   └──  fdjfvb 289092\n",
      "│   │   ├──  qpq 0\n",
      "│   │   │   ├──  ccmvjm.bjb 126281\n",
      "│   │   │   ├──  crtzrd 0\n",
      "│   │   │   │   ├──  fsps 162336\n",
      "│   │   │   │   ├──  mctd.wsz 100215\n",
      "│   │   │   │   ├──  mqbz.fcp 67983\n",
      "│   │   │   │   ├──  mqq.cgz 281538\n",
      "│   │   │   │   ├──  ndfcj 0\n",
      "│   │   │   │   │   └──  pfjczr.wjc 290647\n",
      "│   │   │   │   ├──  rrfflbql 0\n",
      "│   │   │   │   │   ├──  mpr 0\n",
      "│   │   │   │   │   │   ├──  gqmpvplj.vjg 237300\n",
      "│   │   │   │   │   │   └──  pfnglqgw 0\n",
      "│   │   │   │   │   │       ├──  brnwdjtg 0\n",
      "│   │   │   │   │   │       │   ├──  ncvv 256129\n",
      "│   │   │   │   │   │       │   └──  ptztp 0\n",
      "│   │   │   │   │   │       │       └──  nnch.wlc 104775\n",
      "│   │   │   │   │   │       ├──  dvqlmzw 0\n",
      "│   │   │   │   │   │       │   └──  twgqbrtl 25407\n",
      "│   │   │   │   │   │       └──  pmsdthr.prv 248787\n",
      "│   │   │   │   │   ├──  ncvv 0\n",
      "│   │   │   │   │   │   ├──  jvwvsm 0\n",
      "│   │   │   │   │   │   │   ├──  ccmvjm.bjb 222978\n",
      "│   │   │   │   │   │   │   ├──  jzmgcj.gmd 207799\n",
      "│   │   │   │   │   │   │   ├──  pcvsvcn 0\n",
      "│   │   │   │   │   │   │   │   └──  pmsdthr.prv 39803\n",
      "│   │   │   │   │   │   │   ├──  pmsdthr.prv 248569\n",
      "│   │   │   │   │   │   │   └──  wmd 0\n",
      "│   │   │   │   │   │   │       └──  rfstbvj.nhz 9516\n",
      "│   │   │   │   │   │   ├──  jzmgcj.gmd 62293\n",
      "│   │   │   │   │   │   ├──  mqbz.fcp 261836\n",
      "│   │   │   │   │   │   └──  vvvrf 0\n",
      "│   │   │   │   │   │       ├──  ncvv 0\n",
      "│   │   │   │   │   │       │   └──  jzmgcj.gmd 110667\n",
      "│   │   │   │   │   │       └──  znwc 0\n",
      "│   │   │   │   │   │           └──  ndfcj.crv 182248\n",
      "│   │   │   │   │   ├──  rrfflbql 0\n",
      "│   │   │   │   │   │   ├──  ccmvjm.bjb 231013\n",
      "│   │   │   │   │   │   ├──  jlc 0\n",
      "│   │   │   │   │   │   │   ├──  ccmvjm.bjb 28096\n",
      "│   │   │   │   │   │   │   └──  pmsdthr.prv 113156\n",
      "│   │   │   │   │   │   ├──  rrfflbql 0\n",
      "│   │   │   │   │   │   │   └──  lbg.bpn 234558\n",
      "│   │   │   │   │   │   └──  ttm.zmw 79210\n",
      "│   │   │   │   │   └──  zml.qfj 301818\n",
      "│   │   │   │   └──  wbmtvr 0\n",
      "│   │   │   │       └──  fqhs 285832\n",
      "│   │   │   ├──  jzmgcj.gmd 231988\n",
      "│   │   │   ├──  mgmmp 203061\n",
      "│   │   │   ├──  mqbz.fcp 272098\n",
      "│   │   │   ├──  pfnglqgw 0\n",
      "│   │   │   │   ├──  nnch 110965\n",
      "│   │   │   │   ├──  pmsdthr.prv 195414\n",
      "│   │   │   │   └──  thcpw.jfw 243812\n",
      "│   │   │   ├──  qzvcsn 0\n",
      "│   │   │   │   ├──  gqmpvplj.vjg 279179\n",
      "│   │   │   │   ├──  mhmlfc.czv 191705\n",
      "│   │   │   │   ├──  pfnglqgw.ppm 146298\n",
      "│   │   │   │   └──  pmsdthr.prv 2775\n",
      "│   │   │   └──  rrfflbql.mcm 105003\n",
      "│   │   ├──  rftzzmq 0\n",
      "│   │   │   ├──  bddhlvs.rwm 310418\n",
      "│   │   │   ├──  cdznrjl 152681\n",
      "│   │   │   ├──  rrfflbql 278447\n",
      "│   │   │   └──  tmcltf 0\n",
      "│   │   │       └──  mzr 0\n",
      "│   │   │           ├──  ccmvjm.bjb 24154\n",
      "│   │   │           ├──  nnch 0\n",
      "│   │   │           │   └──  mqbz.fcp 100523\n",
      "│   │   │           └──  rqsbw 0\n",
      "│   │   │               └──  czzqg.pcz 64033\n",
      "│   │   ├──  wgblcl 0\n",
      "│   │   │   ├──  dvdzbgv.vwl 235768\n",
      "│   │   │   └──  jzmgcj.gmd 186757\n",
      "│   │   └──  wrdmgdb.fmh 294511\n",
      "│   ├──  pfnglqgw 0\n",
      "│   │   └──  zfphqcsf.cfn 129407\n",
      "│   ├──  tlh 0\n",
      "│   │   ├──  jzmgcj.gmd 89310\n",
      "│   │   ├──  nwnbbmr.lsq 21486\n",
      "│   │   └──  rdmtp.zsf 40023\n",
      "│   └──  vnrhpc 0\n",
      "│       ├──  gqmpvplj.vjg 104731\n",
      "│       ├──  grn 176015\n",
      "│       ├──  jzmgcj.gmd 3646\n",
      "│       ├──  ncvv 0\n",
      "│       │   ├──  ccmvjm.bjb 252691\n",
      "│       │   ├──  ncvv 0\n",
      "│       │   │   └──  qfhhnmqz.snc 306441\n",
      "│       │   ├──  vwv 0\n",
      "│       │   │   └──  rrfflbql 56033\n",
      "│       │   └──  wwmwfbf 0\n",
      "│       │       ├──  gqmpvplj.vjg 45964\n",
      "│       │       └──  mvwl 118391\n",
      "│       ├──  nfrj.lvq 45414\n",
      "│       └──  pfnglqgw.bvf 233767\n",
      "└──  rrfflbql 0\n",
      "    ├──  bcw.sqp 175540\n",
      "    ├──  ggncvs.nvn 154750\n",
      "    ├──  jqzm 0\n",
      "    │   ├──  ncvv 0\n",
      "    │   │   └──  pfnglqgw.jdv 298067\n",
      "    │   ├──  nfcvcddz 0\n",
      "    │   │   ├──  gqmpvplj.vjg 261264\n",
      "    │   │   ├──  mqbz.fcp 19464\n",
      "    │   │   ├──  ncqhrf 121507\n",
      "    │   │   ├──  ndfcj 0\n",
      "    │   │   │   └──  bwn 309008\n",
      "    │   │   ├──  ndfcj.vhh 58485\n",
      "    │   │   ├──  rcrzjm 0\n",
      "    │   │   │   ├──  fgzpwhvt 48178\n",
      "    │   │   │   └──  qns.lnj 129342\n",
      "    │   │   └──  wnftnshq 228359\n",
      "    │   ├──  rjwlgm 242934\n",
      "    │   └──  wzj 0\n",
      "    │       ├──  gqmpvplj.vjg 91384\n",
      "    │       ├──  nnch 0\n",
      "    │       │   └──  sgbwrl 0\n",
      "    │       │       └──  ndfcj 0\n",
      "    │       │           └──  cbmdr 295624\n",
      "    │       └──  rzm 0\n",
      "    │           ├──  cprj 0\n",
      "    │           │   ├──  gqmpvplj.vjg 148192\n",
      "    │           │   └──  hwp.ltc 165473\n",
      "    │           ├──  dfwsj.hqq 86746\n",
      "    │           ├──  dljnvq 0\n",
      "    │           │   └──  pmsdthr.prv 91675\n",
      "    │           ├──  ndfcj 0\n",
      "    │           │   └──  rrfflbql.ghs 83124\n",
      "    │           ├──  nsglq 159465\n",
      "    │           ├──  pfnglqgw.wbh 202670\n",
      "    │           ├──  rrfflbql.wln 29700\n",
      "    │           └──  vgtftq 0\n",
      "    │               └──  mqbz.fcp 186744\n",
      "    ├──  mgbglnr 0\n",
      "    │   ├──  ddtcz 0\n",
      "    │   │   └──  wfzj 61553\n",
      "    │   ├──  ncvv 0\n",
      "    │   │   ├──  ccmvjm.bjb 37589\n",
      "    │   │   ├──  dnct 87987\n",
      "    │   │   ├──  ndfcj.cqg 196537\n",
      "    │   │   └──  pmsdthr.prv 40448\n",
      "    │   ├──  nhpwf 0\n",
      "    │   │   ├──  gqmpvplj.vjg 243345\n",
      "    │   │   ├──  nnch.gfc 53165\n",
      "    │   │   ├──  pfnglqgw 0\n",
      "    │   │   │   ├──  mhvzv.scz 131411\n",
      "    │   │   │   └──  nnch.gnt 142119\n",
      "    │   │   └──  vdnnf 0\n",
      "    │   │       ├──  ccmvjm.bjb 83904\n",
      "    │   │       ├──  czfqdtd 0\n",
      "    │   │       │   └──  nnch 0\n",
      "    │   │       │       └──  ndfcj.ldv 255744\n",
      "    │   │       ├──  dgblftbz 0\n",
      "    │   │       │   ├──  ncvv.zph 278883\n",
      "    │   │       │   ├──  pfnglqgw 0\n",
      "    │   │       │   │   └──  vnwtv 174155\n",
      "    │   │       │   ├──  phns.cmq 133315\n",
      "    │   │       │   └──  sftj 130316\n",
      "    │   │       ├──  jnftbbtm 0\n",
      "    │   │       │   ├──  nmln 255828\n",
      "    │   │       │   └──  pfnglqgw 30605\n",
      "    │   │       ├──  pfbnl 0\n",
      "    │   │       │   └──  ndfcj 8603\n",
      "    │   │       └──  pfnglqgw 0\n",
      "    │   │           └──  pmsdthr.prv 235364\n",
      "    │   ├──  rrfflbql 0\n",
      "    │   │   └──  gfgbj 0\n",
      "    │   │       └──  jzmgcj.gmd 215226\n",
      "    │   ├──  ttbc 203683\n",
      "    │   ├──  tvbjgv 0\n",
      "    │   │   └──  nnch 0\n",
      "    │   │       └──  gmsb 0\n",
      "    │   │           └──  tlqdvpr 0\n",
      "    │   │               └──  hzrq.zrg 130013\n",
      "    │   └──  wvzcq 0\n",
      "    │       └──  ncvv 0\n",
      "    │           ├──  ccmvjm.bjb 103168\n",
      "    │           ├──  ncvv 18537\n",
      "    │           ├──  nnch 0\n",
      "    │           │   └──  ndfcj.lln 20928\n",
      "    │           └──  rrfflbql 0\n",
      "    │               └──  lgfwf 0\n",
      "    │                   ├──  fmzqt 0\n",
      "    │                   │   └──  gqmpvplj.vjg 301419\n",
      "    │                   └──  rrfflbql 0\n",
      "    │                       └──  nbvqch 0\n",
      "    │                           └──  csqvdql.cwr 298966\n",
      "    ├──  ndfcj 192820\n",
      "    ├──  pfnglqgw 0\n",
      "    │   ├──  bhmndjpq 0\n",
      "    │   │   ├──  cmgwwccb.tvv 299744\n",
      "    │   │   ├──  fpwv 173562\n",
      "    │   │   ├──  hmnbfdtr 0\n",
      "    │   │   │   ├──  pfnglqgw 0\n",
      "    │   │   │   │   ├──  dwr 0\n",
      "    │   │   │   │   │   ├──  ndfcj 141669\n",
      "    │   │   │   │   │   └──  ptrlq.stq 9012\n",
      "    │   │   │   │   ├──  jmgp 0\n",
      "    │   │   │   │   │   └──  pfnglqgw 78473\n",
      "    │   │   │   │   ├──  mqbz.fcp 102634\n",
      "    │   │   │   │   ├──  ncvv 148654\n",
      "    │   │   │   │   ├──  ncvv.nzn 257637\n",
      "    │   │   │   │   └──  rrfflbql 286938\n",
      "    │   │   │   ├──  qmpplbtv 0\n",
      "    │   │   │   │   └──  wjp.rgt 202948\n",
      "    │   │   │   └──  tvpdstcn.zbb 77228\n",
      "    │   │   ├──  jqpcs 0\n",
      "    │   │   │   ├──  fmmcph 290654\n",
      "    │   │   │   └──  zrr.vqm 8123\n",
      "    │   │   ├──  mqbz.fcp 73425\n",
      "    │   │   ├──  ncvv 0\n",
      "    │   │   │   └──  hbrttp 0\n",
      "    │   │   │       └──  nffzj 128004\n",
      "    │   │   ├──  ndfcj 0\n",
      "    │   │   │   └──  vscwfsl 0\n",
      "    │   │   │       └──  snww.dzb 251706\n",
      "    │   │   ├──  pmsdthr.prv 95707\n",
      "    │   │   ├──  ptzdv 0\n",
      "    │   │   │   └──  nnch 113702\n",
      "    │   │   ├──  qzhrsnqh 0\n",
      "    │   │   │   ├──  gqmpvplj.vjg 118758\n",
      "    │   │   │   ├──  vcnn.stz 75504\n",
      "    │   │   │   └──  zvv 102737\n",
      "    │   │   └──  sbqg 0\n",
      "    │   │       ├──  bhcpslm.wwt 287663\n",
      "    │   │       ├──  bqr 0\n",
      "    │   │       │   ├──  chjfw 0\n",
      "    │   │       │   │   └──  hvmvqbz.bqj 134800\n",
      "    │   │       │   ├──  dgccfvtl 0\n",
      "    │   │       │   │   └──  lwmqrd.wvp 155579\n",
      "    │   │       │   ├──  fvfsfz 219440\n",
      "    │   │       │   ├──  jzmgcj.gmd 262276\n",
      "    │   │       │   ├──  ndfcj 0\n",
      "    │   │       │   │   ├──  ncvv.hrn 144255\n",
      "    │   │       │   │   ├──  ndfcj 236730\n",
      "    │   │       │   │   └──  pfz 0\n",
      "    │   │       │   │       └──  rrfflbql.fdt 297448\n",
      "    │   │       │   ├──  pfnglqgw.lwh 294287\n",
      "    │   │       │   ├──  rrfflbql 163881\n",
      "    │   │       │   └──  vgjm.rrh 278231\n",
      "    │   │       ├──  czhfphh 0\n",
      "    │   │       │   └──  wmws 0\n",
      "    │   │       │       └──  ncvv 14499\n",
      "    │   │       ├──  fqn 39170\n",
      "    │   │       ├──  gqnts 0\n",
      "    │   │       │   ├──  ccmvjm.bjb 165940\n",
      "    │   │       │   ├──  gjcm 0\n",
      "    │   │       │   │   ├──  gqmpvplj.vjg 125716\n",
      "    │   │       │   │   ├──  mhjm 0\n",
      "    │   │       │   │   │   ├──  jzmgcj.gmd 18749\n",
      "    │   │       │   │   │   ├──  nnch 252999\n",
      "    │   │       │   │   │   └──  rrfflbql.mzh 76392\n",
      "    │   │       │   │   ├──  msspbg 197155\n",
      "    │   │       │   │   └──  trtdggnf 176407\n",
      "    │   │       │   ├──  hldzdlrl 0\n",
      "    │   │       │   │   ├──  gzpcgj 0\n",
      "    │   │       │   │   │   └──  vfz 0\n",
      "    │   │       │   │   │       └──  pmsdthr.prv 183852\n",
      "    │   │       │   │   └──  rvvgn 0\n",
      "    │   │       │   │       └──  ndfcj 143443\n",
      "    │   │       │   ├──  jtnpgg 0\n",
      "    │   │       │   │   ├──  dhvd 0\n",
      "    │   │       │   │   │   └──  ltr.rph 131598\n",
      "    │   │       │   │   ├──  hlmgslbs 0\n",
      "    │   │       │   │   │   └──  rrfflbql 173562\n",
      "    │   │       │   │   ├──  rrfflbql 0\n",
      "    │   │       │   │   │   └──  ghvmc 0\n",
      "    │   │       │   │   │       └──  jzmgcj.gmd 311611\n",
      "    │   │       │   │   └──  vmqpcm 0\n",
      "    │   │       │   │       └──  mqbz.fcp 192032\n",
      "    │   │       │   ├──  nnch 0\n",
      "    │   │       │   │   └──  ccmvjm.bjb 112995\n",
      "    │   │       │   └──  pmsdthr.prv 287896\n",
      "    │   │       ├──  hlv.ljc 267314\n",
      "    │   │       ├──  jqpdpg.prz 8701\n",
      "    │   │       ├──  ncvv 0\n",
      "    │   │       │   ├──  dswpw.wgr 106711\n",
      "    │   │       │   ├──  jzmgcj.gmd 46614\n",
      "    │   │       │   ├──  mqbz.fcp 115391\n",
      "    │   │       │   ├──  nnch 0\n",
      "    │   │       │   │   ├──  gqjtv.gcs 50060\n",
      "    │   │       │   │   ├──  lnmmd 0\n",
      "    │   │       │   │   │   └──  gqmpvplj.vjg 71780\n",
      "    │   │       │   │   ├──  ncvv 73078\n",
      "    │   │       │   │   ├──  tfb 49129\n",
      "    │   │       │   │   ├──  vgwpcjrl 0\n",
      "    │   │       │   │   │   └──  zcspgw 8269\n",
      "    │   │       │   │   └──  wnqlrqlf 0\n",
      "    │   │       │   │       └──  wzsvhssb 0\n",
      "    │   │       │   │           └──  jzmgcj.gmd 187249\n",
      "    │   │       │   ├──  pmsdthr.prv 61970\n",
      "    │   │       │   └──  rrfflbql 0\n",
      "    │   │       │       ├──  bpzmvds 0\n",
      "    │   │       │       │   └──  tfnqwpj 298048\n",
      "    │   │       │       ├──  hfnbzcn 24889\n",
      "    │   │       │       ├──  lqffwfr 0\n",
      "    │   │       │       │   └──  mzfpbjtl 0\n",
      "    │   │       │       │       └──  jzmgcj.gmd 217469\n",
      "    │   │       │       ├──  nnch.svh 274793\n",
      "    │   │       │       └──  rhwm 0\n",
      "    │   │       │           ├──  gqmpvplj.vjg 54198\n",
      "    │   │       │           └──  tlnmwhdt 0\n",
      "    │   │       │               └──  ndfcj.bvv 94380\n",
      "    │   │       └──  psln.pdq 211749\n",
      "    │   ├──  fssbcjcm.hvt 203077\n",
      "    │   ├──  lfslp 0\n",
      "    │   │   ├──  cmrwvp 0\n",
      "    │   │   │   ├──  pmsdthr.prv 217666\n",
      "    │   │   │   └──  vzw.rqw 172469\n",
      "    │   │   ├──  cnh 0\n",
      "    │   │   │   └──  jfb.mpt 84011\n",
      "    │   │   ├──  jgmf.fbs 311549\n",
      "    │   │   ├──  jtgrbqvj 0\n",
      "    │   │   │   ├──  dcfpfq 0\n",
      "    │   │   │   │   └──  pfnglqgw 159731\n",
      "    │   │   │   ├──  ghhs 0\n",
      "    │   │   │   │   └──  blwnhcn 104713\n",
      "    │   │   │   ├──  ntbmh 0\n",
      "    │   │   │   │   ├──  jzmgcj.gmd 174007\n",
      "    │   │   │   │   ├──  pfnglqgw 0\n",
      "    │   │   │   │   │   └──  rfdw.pqh 49844\n",
      "    │   │   │   │   ├──  rrfflbql.scj 60549\n",
      "    │   │   │   │   └──  zwcdggd 0\n",
      "    │   │   │   │       ├──  ccmvjm.bjb 135925\n",
      "    │   │   │   │       ├──  gqmpvplj.vjg 1135\n",
      "    │   │   │   │       └──  hmgpcj.nbb 120968\n",
      "    │   │   │   └──  pfnglqgw 0\n",
      "    │   │   │       ├──  ccmvjm.bjb 184937\n",
      "    │   │   │       ├──  llsjsmg.vtv 128621\n",
      "    │   │   │       ├──  lsbf 0\n",
      "    │   │   │       │   ├──  cfdtsfq.sln 192593\n",
      "    │   │   │       │   └──  nnch.qzj 289191\n",
      "    │   │   │       ├──  ndfcj.fwq 42834\n",
      "    │   │   │       └──  trrchml.sgp 85391\n",
      "    │   │   ├──  pbwsqpcg.whf 166298\n",
      "    │   │   ├──  pfnglqgw.mcj 151437\n",
      "    │   │   └──  sqlwn 0\n",
      "    │   │       ├──  ccmvjm.bjb 77962\n",
      "    │   │       └──  ndfcj 114288\n",
      "    │   ├──  ncvv 0\n",
      "    │   │   └──  gsd 0\n",
      "    │   │       └──  jwcp.lmq 14949\n",
      "    │   ├──  nftdcrl 0\n",
      "    │   │   └──  jzmgcj.gmd 185409\n",
      "    │   ├──  nnch 0\n",
      "    │   │   ├──  djftt 280827\n",
      "    │   │   ├──  ljt 0\n",
      "    │   │   │   ├──  cgrgbpvw 166514\n",
      "    │   │   │   └──  jzmgcj.gmd 55138\n",
      "    │   │   ├──  ncvv 0\n",
      "    │   │   │   ├──  fhnw 0\n",
      "    │   │   │   │   └──  gqmpvplj.vjg 28050\n",
      "    │   │   │   ├──  gqtcgszl.vnf 56003\n",
      "    │   │   │   ├──  jzmgcj.gmd 145831\n",
      "    │   │   │   ├──  mwcbd 0\n",
      "    │   │   │   │   └──  ncvv 288468\n",
      "    │   │   │   └──  rclnhb 0\n",
      "    │   │   │       └──  ndjmjbp 190004\n",
      "    │   │   ├──  ndfcj 0\n",
      "    │   │   │   ├──  gqmpvplj.vjg 287125\n",
      "    │   │   │   ├──  ndfcj 0\n",
      "    │   │   │   │   └──  ssvsvffz 143400\n",
      "    │   │   │   ├──  nnch 247237\n",
      "    │   │   │   └──  pfnglqgw 138902\n",
      "    │   │   ├──  qvhndl.pwn 33396\n",
      "    │   │   ├──  qvlc.cbr 136204\n",
      "    │   │   ├──  rrfflbql.mrq 14063\n",
      "    │   │   └──  vscjncbm.sls 130666\n",
      "    │   ├──  pfnglqgw 0\n",
      "    │   │   ├──  cwwb 0\n",
      "    │   │   │   └──  wtz 0\n",
      "    │   │   │       └──  zcq 300949\n",
      "    │   │   ├──  dtf 0\n",
      "    │   │   │   └──  gqmpvplj.vjg 28018\n",
      "    │   │   └──  mqbz.fcp 97867\n",
      "    │   ├──  qfbbnr 0\n",
      "    │   │   ├──  bqmdfjp 0\n",
      "    │   │   │   ├──  cwz.jdg 137504\n",
      "    │   │   │   └──  ncvv 9191\n",
      "    │   │   ├──  gjfzv 89207\n",
      "    │   │   ├──  pmsdthr.prv 176709\n",
      "    │   │   └──  rrfflbql.vdl 246390\n",
      "    │   └──  wttc 0\n",
      "    │       ├──  ccmvjm.bjb 279516\n",
      "    │       └──  lwnpwdqt.jpj 115478\n",
      "    ├──  qjng.svz 217147\n",
      "    └──  rrfflbql 0\n",
      "        └──  nnch.pnm 162371\n"
     ]
    }
   ],
   "source": [
    "for pre, fill, node in RenderTree(cwd[0]):\n",
    "    print(pre, node.name, node.size)"
   ]
  },
  {
   "cell_type": "code",
   "execution_count": null,
   "metadata": {},
   "outputs": [],
   "source": []
  }
 ],
 "metadata": {
  "kernelspec": {
   "display_name": "Python 3",
   "language": "python",
   "name": "python3"
  },
  "language_info": {
   "codemirror_mode": {
    "name": "ipython",
    "version": 3
   },
   "file_extension": ".py",
   "mimetype": "text/x-python",
   "name": "python",
   "nbconvert_exporter": "python",
   "pygments_lexer": "ipython3",
   "version": "3.8.8"
  }
 },
 "nbformat": 4,
 "nbformat_minor": 4
}
