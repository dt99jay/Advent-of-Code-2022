{
 "cells": [
  {
   "cell_type": "markdown",
   "metadata": {},
   "source": [
    "## Advent of Code 2022"
   ]
  },
  {
   "cell_type": "code",
   "execution_count": 1,
   "metadata": {},
   "outputs": [],
   "source": [
    "from aocd import get_data"
   ]
  },
  {
   "cell_type": "markdown",
   "metadata": {},
   "source": [
    "### Day One"
   ]
  },
  {
   "cell_type": "code",
   "execution_count": 2,
   "metadata": {},
   "outputs": [],
   "source": [
    "data = get_data(day=1, year=2022)"
   ]
  },
  {
   "cell_type": "code",
   "execution_count": 3,
   "metadata": {},
   "outputs": [
    {
     "data": {
      "text/plain": [
       "68787"
      ]
     },
     "execution_count": 3,
     "metadata": {},
     "output_type": "execute_result"
    }
   ],
   "source": [
    "# Part One\n",
    "\n",
    "elves = [elf.split(\"\\n\") for elf in data.split(\"\\n\\n\")]\n",
    "calories = [sum([int(calories) for calories in elf]) for elf in elves]\n",
    "max(calories)"
   ]
  },
  {
   "cell_type": "code",
   "execution_count": 4,
   "metadata": {},
   "outputs": [
    {
     "data": {
      "text/plain": [
       "198041"
      ]
     },
     "execution_count": 4,
     "metadata": {},
     "output_type": "execute_result"
    }
   ],
   "source": [
    "# Part Two\n",
    "\n",
    "sum(sorted(calories, reverse=True)[:3])"
   ]
  },
  {
   "cell_type": "markdown",
   "metadata": {},
   "source": [
    "### Day Two"
   ]
  },
  {
   "cell_type": "code",
   "execution_count": 5,
   "metadata": {},
   "outputs": [],
   "source": [
    "data = get_data(day=2, year=2022)"
   ]
  },
  {
   "cell_type": "code",
   "execution_count": 6,
   "metadata": {},
   "outputs": [
    {
     "data": {
      "text/plain": [
       "13924"
      ]
     },
     "execution_count": 6,
     "metadata": {},
     "output_type": "execute_result"
    }
   ],
   "source": [
    "# Part One\n",
    "\n",
    "games = [(line[0], line[2]) for line in data.splitlines()]\n",
    "translate = {\"A\": \"rock\", \"B\": \"paper\", \"C\": \"scissors\", \"X\": \"rock\", \"Y\": \"paper\", \"Z\": \"scissors\"}\n",
    "games = [(translate[game[0]], translate[game[1]]) for game in games]\n",
    "\n",
    "shape_scores = [{\"rock\": 1, \"paper\": 2, \"scissors\": 3}[game[1]] for game in games]\n",
    "winners = [(\"rock\", \"paper\"), (\"paper\", \"scissors\"), (\"scissors\", \"rock\")] # Loser < Winner\n",
    "outcome_scores = [6 if game in winners else 3 if game[0]==game[1] else 0 for game in games]\n",
    "\n",
    "sum([shape+outcome for (shape, outcome) in zip(shape_scores, outcome_scores)])"
   ]
  },
  {
   "cell_type": "code",
   "execution_count": 7,
   "metadata": {},
   "outputs": [
    {
     "data": {
      "text/plain": [
       "13448"
      ]
     },
     "execution_count": 7,
     "metadata": {},
     "output_type": "execute_result"
    }
   ],
   "source": [
    "# Part Two\n",
    "\n",
    "games = [(line[0], line[2]) for line in data.splitlines()]\n",
    "translate = {\"A\": \"rock\", \"B\": \"paper\", \"C\": \"scissors\", \"X\": \"lose\", \"Y\": \"draw\", \"Z\": \"win\"}\n",
    "games = [(translate[game[0]], translate[game[1]]) for game in games]\n",
    "\n",
    "shape_scores = {\"rock\": 1, \"paper\": 2, \"scissors\": 3}\n",
    "winners = [\"paper\", \"scissors\", \"rock\"]\n",
    "losers = [\"rock\", \"paper\", \"scissors\"]\n",
    "\n",
    "def score(game):\n",
    "    if game[1]==\"draw\":\n",
    "        return (3, shape_scores[game[0]])\n",
    "    elif game[1]==\"win\":\n",
    "        return (6, shape_scores[winners[losers.index(game[0])]])\n",
    "    elif game[1]==\"lose\":\n",
    "        return (0, shape_scores[losers[winners.index(game[0])]])\n",
    "\n",
    "scores = [score(game) for game in games]\n",
    "sum([outcome + shape for (outcome, shape) in scores])"
   ]
  },
  {
   "cell_type": "code",
   "execution_count": 8,
   "metadata": {},
   "outputs": [
    {
     "data": {
      "text/plain": [
       "13448"
      ]
     },
     "execution_count": 8,
     "metadata": {},
     "output_type": "execute_result"
    }
   ],
   "source": [
    "# Part Two with a deque instead of winners/losers lists\n",
    "\n",
    "from collections import deque\n",
    "\n",
    "games = [(line[0], line[2]) for line in data.splitlines()]\n",
    "\n",
    "shape_scores = {\"A\": 1, \"B\": 2, \"C\": 3}\n",
    "winners = deque([\"A\", \"B\", \"C\"])\n",
    "\n",
    "def score(game):\n",
    "    while winners.index(game[0])!=1:\n",
    "        winners.rotate() # Rotate until opponent's choice in middle\n",
    "    if game[1]==\"X\":\n",
    "        return shape_scores[winners[0]]\n",
    "    elif game[1]==\"Y\":\n",
    "        return 3 + shape_scores[winners[1]]\n",
    "    elif game[1]==\"Z\":\n",
    "        return 6 + shape_scores[winners[2]]\n",
    "\n",
    "sum([score(game) for game in games])"
   ]
  },
  {
   "cell_type": "markdown",
   "metadata": {},
   "source": [
    "### Day Three"
   ]
  },
  {
   "cell_type": "code",
   "execution_count": 9,
   "metadata": {},
   "outputs": [],
   "source": [
    "data = get_data(day=3, year=2022)"
   ]
  },
  {
   "cell_type": "code",
   "execution_count": 10,
   "metadata": {},
   "outputs": [
    {
     "data": {
      "text/plain": [
       "7889"
      ]
     },
     "execution_count": 10,
     "metadata": {},
     "output_type": "execute_result"
    }
   ],
   "source": [
    "# Part One\n",
    "\n",
    "import string\n",
    "\n",
    "sacks = data.splitlines()\n",
    "common_items = [set(sack[:len(sack)//2]) & set(sack[len(sack)//2:]) for sack in sacks]\n",
    "alphabet = string.ascii_lowercase + string.ascii_uppercase\n",
    "sum([alphabet.index(item)+1 for item, in common_items])"
   ]
  },
  {
   "cell_type": "code",
   "execution_count": 11,
   "metadata": {},
   "outputs": [
    {
     "data": {
      "text/plain": [
       "2825"
      ]
     },
     "execution_count": 11,
     "metadata": {},
     "output_type": "execute_result"
    }
   ],
   "source": [
    "# Part Two\n",
    "\n",
    "def score(i):\n",
    "    badge, = set(sacks[i-1]) & set(sacks[i]) & set(sacks[i+1])\n",
    "    return alphabet.index(badge)+1\n",
    "\n",
    "sum([score(i) for i in range(1, len(sacks)+1, 3)])"
   ]
  },
  {
   "cell_type": "code",
   "execution_count": 12,
   "metadata": {},
   "outputs": [
    {
     "data": {
      "text/plain": [
       "2825"
      ]
     },
     "execution_count": 12,
     "metadata": {},
     "output_type": "execute_result"
    }
   ],
   "source": [
    "# Part Two -- bit clearer\n",
    "\n",
    "def score(group):\n",
    "    badge, = set(group[0]) & set(group[1]) & set(group[2])\n",
    "    return alphabet.index(badge)+1\n",
    "\n",
    "sum([score(sacks[i:i+3]) for i in range(0, len(sacks), 3)])"
   ]
  },
  {
   "cell_type": "code",
   "execution_count": 13,
   "metadata": {},
   "outputs": [
    {
     "data": {
      "text/plain": [
       "2825"
      ]
     },
     "execution_count": 13,
     "metadata": {},
     "output_type": "execute_result"
    }
   ],
   "source": [
    "# Part Two with `chunked` from more_itertools\n",
    "\n",
    "from more_itertools import chunked\n",
    "\n",
    "def score(group):\n",
    "    badge, = set(group[0]) & set(group[1]) & set(group[2])\n",
    "    return alphabet.index(badge)+1\n",
    "\n",
    "sum([score(group) for group in chunked(sacks, 3)])"
   ]
  },
  {
   "cell_type": "markdown",
   "metadata": {},
   "source": [
    "### Day Four"
   ]
  },
  {
   "cell_type": "code",
   "execution_count": 14,
   "metadata": {},
   "outputs": [],
   "source": [
    "data = get_data(day=4, year=2022)"
   ]
  },
  {
   "cell_type": "code",
   "execution_count": 15,
   "metadata": {},
   "outputs": [
    {
     "data": {
      "text/plain": [
       "431"
      ]
     },
     "execution_count": 15,
     "metadata": {},
     "output_type": "execute_result"
    }
   ],
   "source": [
    "# Part One\n",
    "\n",
    "pairs = [pair.split(\",\") for pair in data.splitlines()]\n",
    "edges = [[edge.split(\"-\") for edge in elf] for elf in pairs]\n",
    "ranges = [[set(range(int(e[0]), int(e[1])+1)) for e in edge] for edge in edges]\n",
    "sum([1 for elf in ranges if elf[0] <= elf[1] or elf[0] >= elf[1]])"
   ]
  },
  {
   "cell_type": "code",
   "execution_count": 16,
   "metadata": {},
   "outputs": [
    {
     "data": {
      "text/plain": [
       "823"
      ]
     },
     "execution_count": 16,
     "metadata": {},
     "output_type": "execute_result"
    }
   ],
   "source": [
    "# Part Two\n",
    "\n",
    "sum([1 for elf in ranges if elf[0] & elf[1]])"
   ]
  },
  {
   "cell_type": "markdown",
   "metadata": {},
   "source": [
    "### Day Five"
   ]
  },
  {
   "cell_type": "code",
   "execution_count": 17,
   "metadata": {},
   "outputs": [],
   "source": [
    "data = get_data(day=5, year=2022)"
   ]
  },
  {
   "cell_type": "code",
   "execution_count": 18,
   "metadata": {},
   "outputs": [
    {
     "data": {
      "text/plain": [
       "'BZLVHBWQF'"
      ]
     },
     "execution_count": 18,
     "metadata": {},
     "output_type": "execute_result"
    }
   ],
   "source": [
    "# Part One\n",
    "\n",
    "import re\n",
    "import copy\n",
    "\n",
    "\"\"\" # First approach to parsing stacks with regex -- but prefer reading nth char as below\n",
    "stacks, rearrangement = data.split(\"\\n\\n\")\n",
    "stack_count = int((max(re.findall(r\"\\d+\", stacks.splitlines()[-1]))))\n",
    "stacks = [re.finditer(r\"\\[([A-Z])\\]\", stack) for stack in stacks.splitlines()[:-1]]\n",
    "crates = {i+1: [] for i in range(stack_count)}\n",
    "\n",
    "for stack in stacks:\n",
    "    for crate in stack:\n",
    "        crates[int(crate.start()/4)+1].append(crate.groups()[0])\n",
    "\"\"\"\n",
    "\n",
    "stacks, instructions = data.split(\"\\n\\n\")\n",
    "stacks = [list(stack[1::4]) for stack in stacks.splitlines()[:-1]] # Read every 4th char\n",
    "stacks = [list(stack) for stack in zip(*stacks)] # Transpose list of lists\n",
    "stacks = {k+1: [crate for crate in stack if not crate.isspace()] for k, stack in enumerate(stacks)}\n",
    "\n",
    "stacks_rearranged = copy.deepcopy(stacks)\n",
    "        \n",
    "for instruction in instructions.splitlines():\n",
    "    quantity, source, target = [int(i) for i in re.findall(r\"\\d+\", instruction)]\n",
    "    for q in range(quantity):\n",
    "        stacks_rearranged[target].insert(0, stacks_rearranged[source].pop(0))\n",
    "\n",
    "\"\".join([stacks_rearranged[k][0] for k in sorted(stacks_rearranged.keys())])"
   ]
  },
  {
   "cell_type": "code",
   "execution_count": 19,
   "metadata": {},
   "outputs": [
    {
     "data": {
      "text/plain": [
       "'TDGJQTZSL'"
      ]
     },
     "execution_count": 19,
     "metadata": {},
     "output_type": "execute_result"
    }
   ],
   "source": [
    "# Part Two\n",
    "\n",
    "stacks_rearranged = copy.deepcopy(stacks)\n",
    "\n",
    "for instruction in instructions.splitlines():\n",
    "    quantity, source, target = [int(i) for i in re.findall(r\"\\d+\", instruction)]\n",
    "    stacks_rearranged[target][:0] = stacks_rearranged[source][:int(quantity)]\n",
    "    stacks_rearranged[source] = stacks_rearranged[source][int(quantity):]\n",
    "\n",
    "\"\".join([stacks_rearranged[k][0] for k in sorted(stacks_rearranged.keys())])"
   ]
  },
  {
   "cell_type": "markdown",
   "metadata": {},
   "source": [
    "### Day Six"
   ]
  },
  {
   "cell_type": "code",
   "execution_count": 20,
   "metadata": {},
   "outputs": [],
   "source": [
    "data = get_data(day=6, year=2022)"
   ]
  },
  {
   "cell_type": "code",
   "execution_count": 21,
   "metadata": {},
   "outputs": [
    {
     "name": "stdout",
     "output_type": "stream",
     "text": [
      "CPU times: user 3 µs, sys: 1e+03 ns, total: 4 µs\n",
      "Wall time: 6.2 µs\n"
     ]
    },
    {
     "data": {
      "text/plain": [
       "1802"
      ]
     },
     "execution_count": 21,
     "metadata": {},
     "output_type": "execute_result"
    }
   ],
   "source": [
    "%time\n",
    "\n",
    "# Part One\n",
    "\n",
    "from more_itertools import windowed\n",
    "\n",
    "marker = [marker for marker in windowed(data, 4) if len(set(marker))==4][0]\n",
    "data.find(\"\".join(marker))+4"
   ]
  },
  {
   "cell_type": "code",
   "execution_count": 22,
   "metadata": {},
   "outputs": [
    {
     "data": {
      "text/plain": [
       "3551"
      ]
     },
     "execution_count": 22,
     "metadata": {},
     "output_type": "execute_result"
    }
   ],
   "source": [
    "# Part Two\n",
    "\n",
    "marker = [marker for marker in windowed(data, 14) if len(set(marker))==14][0]\n",
    "data.find(\"\".join(marker))+14"
   ]
  },
  {
   "cell_type": "code",
   "execution_count": 23,
   "metadata": {},
   "outputs": [
    {
     "name": "stdout",
     "output_type": "stream",
     "text": [
      "CPU times: user 5.59 ms, sys: 160 µs, total: 5.75 ms\n",
      "Wall time: 6.34 ms\n"
     ]
    },
    {
     "data": {
      "text/plain": [
       "1802"
      ]
     },
     "execution_count": 23,
     "metadata": {},
     "output_type": "execute_result"
    }
   ],
   "source": [
    "%%time\n",
    "\n",
    "# Part One -- trying a deque\n",
    "\n",
    "signal = list(data)\n",
    "marker = deque(4*[], 4)\n",
    "i=0\n",
    "while len(set(marker))!=4:\n",
    "    marker.append(signal.pop(0))\n",
    "    i+=1\n",
    "i"
   ]
  },
  {
   "cell_type": "markdown",
   "metadata": {},
   "source": [
    "### Day Seven"
   ]
  },
  {
   "cell_type": "code",
   "execution_count": 24,
   "metadata": {},
   "outputs": [],
   "source": [
    "data = get_data(day=7, year=2022)"
   ]
  },
  {
   "cell_type": "code",
   "execution_count": 25,
   "metadata": {},
   "outputs": [
    {
     "data": {
      "text/plain": [
       "1084134"
      ]
     },
     "execution_count": 25,
     "metadata": {},
     "output_type": "execute_result"
    }
   ],
   "source": [
    "# Part One\n",
    "\n",
    "from anytree import Node, RenderTree, search, PreOrderIter\n",
    "\n",
    "commands = data.split(\"$ \")[1:]\n",
    "commands = [(cmd[:cmd.find(\"\\n\")], cmd[cmd.find(\"\\n\")+1:].splitlines()) for cmd in commands]\n",
    "\n",
    "cwd = [Node(\"/\", size=0)]\n",
    "\n",
    "for cmd, resp in commands[1:]:\n",
    "    if cmd==\"ls\":\n",
    "        files = [(file.split()[1], file.split()[0]) for file in resp]\n",
    "        names = [file.split()[1] for file in resp]\n",
    "        sizes = [int(file.split()[0]) if file.split()[0].isdigit() else 0 for file in resp]\n",
    "        [Node(name, parent=cwd[-1], size=size) for name, size in zip(names, sizes)]\n",
    "    elif cmd.startswith(\"cd\"):\n",
    "        target = cmd.split()[1]\n",
    "        if target == \"..\":\n",
    "            cwd.pop()\n",
    "        else:\n",
    "            cwd.append(search.find(cwd[-1], lambda node: node.name==target and node.parent==cwd[-1]))\n",
    "\n",
    "total = 0\n",
    "for parent in PreOrderIter(cwd[0]):\n",
    "    size = sum([node.size for node in PreOrderIter(parent)])\n",
    "    if parent.size == 0 and size < 100000:\n",
    "        total += size\n",
    "total"
   ]
  },
  {
   "cell_type": "code",
   "execution_count": 26,
   "metadata": {},
   "outputs": [
    {
     "data": {
      "text/plain": [
       "6183184"
      ]
     },
     "execution_count": 26,
     "metadata": {},
     "output_type": "execute_result"
    }
   ],
   "source": [
    "# Part Two\n",
    "\n",
    "used = sum([node.size for node in PreOrderIter(cwd[0])])\n",
    "remaining = 70000000-used\n",
    "to_find = 30000000-remaining\n",
    "\n",
    "folders = []\n",
    "for parent in PreOrderIter(cwd[0]):\n",
    "    size = sum([node.size for node in PreOrderIter(parent)])\n",
    "    if parent.size == 0:\n",
    "        folders.append({\"dir\": parent, \"size\": size})\n",
    "\n",
    "folders = sorted(folders, key=lambda folder: folder[\"size\"])\n",
    "min(folders, key=lambda folder: abs(folder[\"size\"]-to_find))[\"size\"]"
   ]
  },
  {
   "cell_type": "code",
   "execution_count": 27,
   "metadata": {},
   "outputs": [],
   "source": [
    "#for pre, fill, node in RenderTree(cwd[0]):\n",
    "#    print(pre, node.name, node.size)"
   ]
  },
  {
   "cell_type": "markdown",
   "metadata": {},
   "source": [
    "### Day Eight"
   ]
  },
  {
   "cell_type": "code",
   "execution_count": 28,
   "metadata": {},
   "outputs": [],
   "source": [
    "data = get_data(day=8, year=2022)"
   ]
  },
  {
   "cell_type": "code",
   "execution_count": 29,
   "metadata": {},
   "outputs": [
    {
     "data": {
      "text/plain": [
       "1763"
      ]
     },
     "execution_count": 29,
     "metadata": {},
     "output_type": "execute_result"
    }
   ],
   "source": [
    "# Part One\n",
    "\n",
    "from io import StringIO\n",
    "import numpy as np\n",
    "\n",
    "trees = np.genfromtxt(StringIO(data), delimiter=1, dtype=int)\n",
    "\n",
    "def is_visible(y,x):\n",
    "    lines = [\n",
    "        trees[y,:x], # Line of trees between y, x and... the left edge\n",
    "        trees[y,x+1:], # ... right edge\n",
    "        trees[:y,x], # ... top edge\n",
    "        trees[y+1:,x] # ... bottom edge\n",
    "    ]\n",
    "    if any(all(tree<trees[y,x] for tree in line) for line in lines):\n",
    "        return True\n",
    "\n",
    "[is_visible(y,x) for y, x in np.ndindex(trees.shape)].count(True)"
   ]
  },
  {
   "cell_type": "code",
   "execution_count": 30,
   "metadata": {},
   "outputs": [
    {
     "data": {
      "text/plain": [
       "671160"
      ]
     },
     "execution_count": 30,
     "metadata": {},
     "output_type": "execute_result"
    }
   ],
   "source": [
    "# Part Two\n",
    "\n",
    "def scenic_score(y,x):\n",
    "    lines = [\n",
    "        reversed(trees[y,:x]), # Towards the left\n",
    "        trees[y,x+1:], # Towards the right\n",
    "        reversed(trees[:y,x]), # Towards the top\n",
    "        trees[y+1:,x] # Towards the bottom\n",
    "    ]\n",
    "    views = 4*[0]\n",
    "    for direction, line in enumerate(lines):\n",
    "        for tree in line:\n",
    "            views[direction]+=1\n",
    "            if trees[y,x] <= tree:\n",
    "                break\n",
    "    return np.product(views)\n",
    "\n",
    "max(scenic_score(y,x) for y, x in np.ndindex(trees.shape))"
   ]
  },
  {
   "cell_type": "markdown",
   "metadata": {},
   "source": [
    "### Day Nine"
   ]
  },
  {
   "cell_type": "code",
   "execution_count": 31,
   "metadata": {},
   "outputs": [],
   "source": [
    "data = get_data(day=9, year=2022)"
   ]
  },
  {
   "cell_type": "code",
   "execution_count": 32,
   "metadata": {},
   "outputs": [
    {
     "data": {
      "text/plain": [
       "6332"
      ]
     },
     "execution_count": 32,
     "metadata": {},
     "output_type": "execute_result"
    }
   ],
   "source": [
    "from shapely.geometry import Point, MultiPoint\n",
    "from shapely.affinity import translate\n",
    "from shapely.ops import nearest_points\n",
    "from math import sqrt\n",
    "\n",
    "motions = [(motion.split()[0], int(motion.split()[1])) for motion in data.splitlines()]\n",
    "\n",
    "H = Point(0,0)\n",
    "T = Point(0,0)\n",
    "T_trail = [T]\n",
    "lookup = {\"R\": {\"xoff\": 1}, \"L\": {\"xoff\": -1}, \"U\": {\"yoff\": 1}, \"D\": {\"yoff\": -1}}\n",
    "\n",
    "for direction, distance in motions:\n",
    "    for step in range(1, distance+1):\n",
    "        H = translate(H, **lookup[direction])\n",
    "        if T.distance(H)>sqrt(2): # Don't snap T to H's buffer if it's diagonal to H\n",
    "            buffer = H.buffer(1, resolution=1) # Square buffer with vertices at cardinals\n",
    "            points = MultiPoint([p for p in buffer.exterior.coords])\n",
    "            T, _ = nearest_points(points, T)\n",
    "        T_trail.append(T)\n",
    "\n",
    "len(set([(round(T.coords[0][0]), round(T.coords[0][1])) for T in T_trail]))"
   ]
  },
  {
   "cell_type": "markdown",
   "metadata": {},
   "source": [
    "### Day Ten"
   ]
  },
  {
   "cell_type": "code",
   "execution_count": 33,
   "metadata": {},
   "outputs": [],
   "source": [
    "data = get_data(day=10, year=2022)"
   ]
  },
  {
   "cell_type": "code",
   "execution_count": 34,
   "metadata": {},
   "outputs": [
    {
     "data": {
      "text/plain": [
       "14820"
      ]
     },
     "execution_count": 34,
     "metadata": {},
     "output_type": "execute_result"
    }
   ],
   "source": [
    "cycles = {cycle: register for cycle, register in zip(range(1, 241), [None]*240)}\n",
    "cycle = 1\n",
    "register = 1\n",
    "\n",
    "for op in data.splitlines():\n",
    "    if op == \"noop\":\n",
    "        cycles[cycle]=register\n",
    "        cycle+=1\n",
    "    elif op.startswith(\"addx\"):\n",
    "        cycles[cycle]=register\n",
    "        cycle+=1\n",
    "        cycles[cycle]=register\n",
    "        cycle+=1\n",
    "        register+=int(op.split()[1])\n",
    "\n",
    "sum([i*cycles[i] for i in [20, 60, 100, 140, 180, 220]])"
   ]
  },
  {
   "cell_type": "code",
   "execution_count": 35,
   "metadata": {},
   "outputs": [
    {
     "data": {
      "text/plain": [
       "<matplotlib.image.AxesImage at 0x113999130>"
      ]
     },
     "execution_count": 35,
     "metadata": {},
     "output_type": "execute_result"
    },
    {
     "data": {
      "image/png": "[encoded data removed]",
      "text/plain": [
       "<Figure size 432x288 with 1 Axes>"
      ]
     },
     "metadata": {
      "needs_background": "light"
     },
     "output_type": "display_data"
    }
   ],
   "source": [
    "from more_itertools import chunked\n",
    "import numpy as np\n",
    "import matplotlib.pyplot as plt\n",
    "\n",
    "pixels = np.zeros((6,40))\n",
    "\n",
    "for row, cycle_chunk in enumerate(chunked(cycles.values(), 40)):\n",
    "    for cycle, register in enumerate(cycle_chunk):\n",
    "        if cycle in range(register-1, register+2):\n",
    "            pixels[row][cycle]=1\n",
    "\n",
    "plt.imshow(pixels.astype(float))"
   ]
  },
  {
   "cell_type": "markdown",
   "metadata": {},
   "source": [
    "### Day Twelve"
   ]
  },
  {
   "cell_type": "code",
   "execution_count": 36,
   "metadata": {},
   "outputs": [],
   "source": [
    "data = get_data(day=12, year=2022)"
   ]
  },
  {
   "cell_type": "code",
   "execution_count": 37,
   "metadata": {},
   "outputs": [
    {
     "data": {
      "text/plain": [
       "437"
      ]
     },
     "execution_count": 37,
     "metadata": {},
     "output_type": "execute_result"
    }
   ],
   "source": [
    "# Part One\n",
    "\n",
    "from io import StringIO\n",
    "import numpy as np\n",
    "import networkx as nx\n",
    "\n",
    "heightmap = np.genfromtxt(StringIO(data), delimiter=1, dtype=str)\n",
    "start = tuple(np.dstack(np.where(heightmap==\"S\"))[0][0])\n",
    "end = tuple(np.dstack(np.where(heightmap==\"E\"))[0][0])\n",
    "heightmap[start] = \"a\"\n",
    "heightmap[end] = \"z\"\n",
    "heightmap = heightmap.view(np.uint32)-97\n",
    "\n",
    "G = nx.DiGraph()\n",
    "for y, x in np.ndindex(heightmap.shape):\n",
    "    neighbours = [(y-1, x), (y+1, x), (y, x+1), (y, x-1)]\n",
    "    for neighbour in neighbours:\n",
    "        if 0 <= neighbour[0] < heightmap.shape[0] and 0 <= neighbour[1] < heightmap.shape[1]:\n",
    "            if heightmap[neighbour] <= heightmap[y, x]+1:\n",
    "                G.add_edge((y,x), neighbour)\n",
    "                G.nodes[(y,x)][\"value\"] = heightmap[y,x]\n",
    "\n",
    "#labels = nx.get_node_attributes(G, \"value\")\n",
    "#nx.draw(G, with_labels=True, labels=labels, arrows=True)\n",
    "\n",
    "len(nx.shortest_path(G, start, end))-1"
   ]
  },
  {
   "cell_type": "code",
   "execution_count": 38,
   "metadata": {},
   "outputs": [
    {
     "data": {
      "text/plain": [
       "430"
      ]
     },
     "execution_count": 38,
     "metadata": {},
     "output_type": "execute_result"
    }
   ],
   "source": [
    "# Part Two\n",
    "\n",
    "starts = tuple(np.dstack(np.where(heightmap==ord(\"a\")-97)))\n",
    "\n",
    "steps = []\n",
    "for start in starts[0]:\n",
    "    try:\n",
    "        steps.append(len(nx.shortest_path(G, tuple(start), end)))\n",
    "    except nx.NetworkXNoPath:\n",
    "        pass\n",
    "\n",
    "min(steps)-1"
   ]
  },
  {
   "cell_type": "code",
   "execution_count": null,
   "metadata": {},
   "outputs": [],
   "source": []
  }
 ],
 "metadata": {
  "kernelspec": {
   "display_name": "Python 3",
   "language": "python",
   "name": "python3"
  },
  "language_info": {
   "codemirror_mode": {
    "name": "ipython",
    "version": 3
   },
   "file_extension": ".py",
   "mimetype": "text/x-python",
   "name": "python",
   "nbconvert_exporter": "python",
   "pygments_lexer": "ipython3",
   "version": "3.8.8"
  }
 },
 "nbformat": 4,
 "nbformat_minor": 4
}
